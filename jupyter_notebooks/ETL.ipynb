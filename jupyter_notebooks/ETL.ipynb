{
 "cells": [
  {
   "cell_type": "markdown",
   "metadata": {
    "id": "0aStgWSO0E0E"
   },
   "source": [
    "# **Extract, Transform, Load (ETL) Process**"
   ]
  },
  {
   "cell_type": "markdown",
   "metadata": {
    "id": "1eLEkw5O0ECa"
   },
   "source": [
    "## Objectives\n",
    "\n",
    "* The objective of this notebook is to perform an ETL process of the data I have gathered from Kaggle.\n",
    "* I have fetched the data which you can find in the datasets/raw folder.\n",
    "* There are 4 related csv files that contain foreign keys that relate to eachother such as player_id, match_id and tournament_id. I will use these keys to clean and merge the data.\n",
    "## Inputs\n",
    "\n",
    "* My inputs are 4 csv files:\n",
    "    * matches.csv\n",
    "    * players.csv\n",
    "    * scores.csv\n",
    "    * tournaments.csv\n",
    "\n",
    "## Outputs\n",
    "\n",
    "* I am going to output one main table. From this table I will filter information into smaller csv files where I can work on them more easily to create visualisations.\n",
    "\n",
    "## Additional Comments\n",
    "\n",
    "* If you have any additional comments that don't fit in the previous bullets, please state them here. \n",
    "\n"
   ]
  },
  {
   "cell_type": "markdown",
   "metadata": {
    "id": "9uWZXH9LwoQg"
   },
   "source": [
    "---"
   ]
  },
  {
   "cell_type": "markdown",
   "metadata": {
    "id": "cqP-UeN-z3i2"
   },
   "source": [
    "# Change working directory"
   ]
  },
  {
   "cell_type": "markdown",
   "metadata": {},
   "source": [
    "* We are assuming you will store the notebooks in a subfolder, therefore when running the notebook in the editor, you will need to change the working directory"
   ]
  },
  {
   "cell_type": "markdown",
   "metadata": {
    "id": "aOGIGS-uz3i2"
   },
   "source": [
    "We need to change the working directory from its current folder to its parent folder\n",
    "* We access the current directory with os.getcwd()"
   ]
  },
  {
   "cell_type": "code",
   "execution_count": 1,
   "metadata": {
    "id": "wZfF_j-Bz3i4",
    "outputId": "66943449-1436-4c3d-85c7-b85f9f78349b"
   },
   "outputs": [
    {
     "data": {
      "text/plain": [
       "'/Users/stephenbeese/GitHub/Snooker-Data-Analysis/Snooker-Data-Analysis/jupyter_notebooks'"
      ]
     },
     "execution_count": 1,
     "metadata": {},
     "output_type": "execute_result"
    }
   ],
   "source": [
    "import os\n",
    "current_dir = os.getcwd()\n",
    "current_dir\n"
   ]
  },
  {
   "cell_type": "markdown",
   "metadata": {
    "id": "9MWW8E7lz3i7"
   },
   "source": [
    "We want to make the parent of the current directory the new current directory\n",
    "* os.path.dirname() gets the parent directory\n",
    "* os.chir() defines the new current directory"
   ]
  },
  {
   "cell_type": "code",
   "execution_count": 2,
   "metadata": {
    "id": "TwHsQRWjz3i9",
    "outputId": "86849db3-cd2f-4cc5-ebb8-2d0caafa1a2c"
   },
   "outputs": [
    {
     "name": "stdout",
     "output_type": "stream",
     "text": [
      "You set a new current directory\n"
     ]
    }
   ],
   "source": [
    "os.chdir(os.path.dirname(current_dir))\n",
    "print(\"You set a new current directory\")"
   ]
  },
  {
   "cell_type": "markdown",
   "metadata": {
    "id": "M_xPk_Ijz3i-"
   },
   "source": [
    "Confirm the new current directory"
   ]
  },
  {
   "cell_type": "code",
   "execution_count": 3,
   "metadata": {
    "id": "vz3S-_kjz3jA",
    "outputId": "00b79ae4-75d0-4a96-d193-ac9ef9847ea2"
   },
   "outputs": [
    {
     "data": {
      "text/plain": [
       "'/Users/stephenbeese/GitHub/Snooker-Data-Analysis/Snooker-Data-Analysis'"
      ]
     },
     "execution_count": 3,
     "metadata": {},
     "output_type": "execute_result"
    }
   ],
   "source": [
    "current_dir = os.getcwd()\n",
    "current_dir"
   ]
  },
  {
   "cell_type": "markdown",
   "metadata": {},
   "source": [
    "# Imports\n",
    "\n",
    "To clean and merge this data I will first need to import some libraries"
   ]
  },
  {
   "cell_type": "code",
   "execution_count": 4,
   "metadata": {},
   "outputs": [],
   "source": [
    "import numpy as np\n",
    "import pandas as pd"
   ]
  },
  {
   "cell_type": "markdown",
   "metadata": {
    "id": "-mavJ8DibrcQ"
   },
   "source": [
    "# Section 1 - Load the Data into DataFrames"
   ]
  },
  {
   "cell_type": "markdown",
   "metadata": {},
   "source": [
    "Step 1 - Load data from datasets/raw folder into data frames"
   ]
  },
  {
   "cell_type": "code",
   "execution_count": 5,
   "metadata": {},
   "outputs": [],
   "source": [
    "# Set the file path for raw data\n",
    "raw_data_dir = os.path.join(current_dir, 'datasets/raw')\n",
    "\n",
    "# Set the file path for clean data\n",
    "clean_data_dir = os.path.join(current_dir, 'datasets/clean')\n",
    "\n",
    "# Load all csv files into Pandas DataFrames\n",
    "df_matches = pd.read_csv(os.path.join(raw_data_dir, 'matches.csv'))\n",
    "df_players = pd.read_csv(os.path.join(raw_data_dir, 'players.csv'))\n",
    "df_scores = pd.read_csv(os.path.join(raw_data_dir, 'scores.csv'))\n",
    "df_tournaments = pd.read_csv(os.path.join(raw_data_dir, 'tournaments.csv'))\n"
   ]
  },
  {
   "cell_type": "markdown",
   "metadata": {},
   "source": [
    "### Cleaning matches.csv Data"
   ]
  },
  {
   "cell_type": "markdown",
   "metadata": {
    "id": "ZY3l0-AxO93d"
   },
   "source": [
    "---"
   ]
  },
  {
   "cell_type": "code",
   "execution_count": 6,
   "metadata": {},
   "outputs": [
    {
     "data": {
      "text/html": [
       "<div>\n",
       "<style scoped>\n",
       "    .dataframe tbody tr th:only-of-type {\n",
       "        vertical-align: middle;\n",
       "    }\n",
       "\n",
       "    .dataframe tbody tr th {\n",
       "        vertical-align: top;\n",
       "    }\n",
       "\n",
       "    .dataframe thead th {\n",
       "        text-align: right;\n",
       "    }\n",
       "</style>\n",
       "<table border=\"1\" class=\"dataframe\">\n",
       "  <thead>\n",
       "    <tr style=\"text-align: right;\">\n",
       "      <th></th>\n",
       "      <th>tournament_id</th>\n",
       "      <th>match_id</th>\n",
       "      <th>date</th>\n",
       "      <th>stage</th>\n",
       "      <th>best_of</th>\n",
       "      <th>player1_name</th>\n",
       "      <th>player1_url</th>\n",
       "      <th>player2_name</th>\n",
       "      <th>player2_url</th>\n",
       "      <th>score1</th>\n",
       "      <th>score2</th>\n",
       "      <th>frames_scores</th>\n",
       "      <th>is_walkover</th>\n",
       "    </tr>\n",
       "  </thead>\n",
       "  <tbody>\n",
       "    <tr>\n",
       "      <th>0</th>\n",
       "      <td>753</td>\n",
       "      <td>82716</td>\n",
       "      <td>NaN</td>\n",
       "      <td>Final</td>\n",
       "      <td>31</td>\n",
       "      <td>Terry Griffiths</td>\n",
       "      <td>https://cuetracker.net/players/terry-griffiths</td>\n",
       "      <td>Alex Higgins</td>\n",
       "      <td>https://cuetracker.net/players/alex-higgins</td>\n",
       "      <td>16</td>\n",
       "      <td>15</td>\n",
       "      <td>20-58; 31-90; 56-52; 26-87(67); 0-114(67); 73(...</td>\n",
       "      <td>False</td>\n",
       "    </tr>\n",
       "    <tr>\n",
       "      <th>1</th>\n",
       "      <td>753</td>\n",
       "      <td>82718</td>\n",
       "      <td>NaN</td>\n",
       "      <td>Semi-final</td>\n",
       "      <td>17</td>\n",
       "      <td>Terry Griffiths</td>\n",
       "      <td>https://cuetracker.net/players/terry-griffiths</td>\n",
       "      <td>Tony Meo</td>\n",
       "      <td>https://cuetracker.net/players/tony-meo</td>\n",
       "      <td>9</td>\n",
       "      <td>7</td>\n",
       "      <td>71-8; 50-71(55); 31-62; 69-30; 73-61; 34-77(52...</td>\n",
       "      <td>False</td>\n",
       "    </tr>\n",
       "    <tr>\n",
       "      <th>2</th>\n",
       "      <td>753</td>\n",
       "      <td>82717</td>\n",
       "      <td>NaN</td>\n",
       "      <td>Semi-final</td>\n",
       "      <td>17</td>\n",
       "      <td>Alex Higgins</td>\n",
       "      <td>https://cuetracker.net/players/alex-higgins</td>\n",
       "      <td>Ray Reardon</td>\n",
       "      <td>https://cuetracker.net/players/ray-reardon</td>\n",
       "      <td>9</td>\n",
       "      <td>6</td>\n",
       "      <td>28-71; 67(50)-29; 74(74)-0; 53-79; 60-54; 112(...</td>\n",
       "      <td>False</td>\n",
       "    </tr>\n",
       "    <tr>\n",
       "      <th>3</th>\n",
       "      <td>753</td>\n",
       "      <td>82721</td>\n",
       "      <td>NaN</td>\n",
       "      <td>Quarter-final</td>\n",
       "      <td>17</td>\n",
       "      <td>Terry Griffiths</td>\n",
       "      <td>https://cuetracker.net/players/terry-griffiths</td>\n",
       "      <td>Steve Davis</td>\n",
       "      <td>https://cuetracker.net/players/steve-davis</td>\n",
       "      <td>9</td>\n",
       "      <td>6</td>\n",
       "      <td>1-103; 117(60,57)-6; 5-105(60); 57-60; 79-0; 2...</td>\n",
       "      <td>False</td>\n",
       "    </tr>\n",
       "    <tr>\n",
       "      <th>4</th>\n",
       "      <td>753</td>\n",
       "      <td>82719</td>\n",
       "      <td>NaN</td>\n",
       "      <td>Quarter-final</td>\n",
       "      <td>17</td>\n",
       "      <td>Alex Higgins</td>\n",
       "      <td>https://cuetracker.net/players/alex-higgins</td>\n",
       "      <td>John Spencer</td>\n",
       "      <td>https://cuetracker.net/players/john-spencer</td>\n",
       "      <td>9</td>\n",
       "      <td>5</td>\n",
       "      <td>69(54)-31; 103-21; 72-48; 33-82; 40-56; 71-51;...</td>\n",
       "      <td>False</td>\n",
       "    </tr>\n",
       "  </tbody>\n",
       "</table>\n",
       "</div>"
      ],
      "text/plain": [
       "   tournament_id  match_id date          stage  best_of     player1_name  \\\n",
       "0            753     82716  NaN          Final       31  Terry Griffiths   \n",
       "1            753     82718  NaN     Semi-final       17  Terry Griffiths   \n",
       "2            753     82717  NaN     Semi-final       17     Alex Higgins   \n",
       "3            753     82721  NaN  Quarter-final       17  Terry Griffiths   \n",
       "4            753     82719  NaN  Quarter-final       17     Alex Higgins   \n",
       "\n",
       "                                      player1_url  player2_name  \\\n",
       "0  https://cuetracker.net/players/terry-griffiths  Alex Higgins   \n",
       "1  https://cuetracker.net/players/terry-griffiths      Tony Meo   \n",
       "2     https://cuetracker.net/players/alex-higgins   Ray Reardon   \n",
       "3  https://cuetracker.net/players/terry-griffiths   Steve Davis   \n",
       "4     https://cuetracker.net/players/alex-higgins  John Spencer   \n",
       "\n",
       "                                   player2_url  score1  score2  \\\n",
       "0  https://cuetracker.net/players/alex-higgins      16      15   \n",
       "1      https://cuetracker.net/players/tony-meo       9       7   \n",
       "2   https://cuetracker.net/players/ray-reardon       9       6   \n",
       "3   https://cuetracker.net/players/steve-davis       9       6   \n",
       "4  https://cuetracker.net/players/john-spencer       9       5   \n",
       "\n",
       "                                       frames_scores  is_walkover  \n",
       "0  20-58; 31-90; 56-52; 26-87(67); 0-114(67); 73(...        False  \n",
       "1  71-8; 50-71(55); 31-62; 69-30; 73-61; 34-77(52...        False  \n",
       "2  28-71; 67(50)-29; 74(74)-0; 53-79; 60-54; 112(...        False  \n",
       "3  1-103; 117(60,57)-6; 5-105(60); 57-60; 79-0; 2...        False  \n",
       "4  69(54)-31; 103-21; 72-48; 33-82; 40-56; 71-51;...        False  "
      ]
     },
     "execution_count": 6,
     "metadata": {},
     "output_type": "execute_result"
    }
   ],
   "source": [
    "# Display the head of df_matches\n",
    "df_matches.head()"
   ]
  },
  {
   "cell_type": "code",
   "execution_count": 7,
   "metadata": {},
   "outputs": [
    {
     "data": {
      "text/plain": [
       "tournament_id         0\n",
       "match_id              0\n",
       "date             138711\n",
       "stage                 0\n",
       "best_of               0\n",
       "player1_name          0\n",
       "player1_url           0\n",
       "player2_name          0\n",
       "player2_url           0\n",
       "score1                0\n",
       "score2                0\n",
       "frames_scores    123278\n",
       "is_walkover           0\n",
       "dtype: int64"
      ]
     },
     "execution_count": 7,
     "metadata": {},
     "output_type": "execute_result"
    }
   ],
   "source": [
    "# Check missing values in the dataframe\n",
    "df_matches.isnull().sum()"
   ]
  },
  {
   "cell_type": "markdown",
   "metadata": {},
   "source": [
    "From the code above we can see that there are a lot of missing values in both the `date` column and `frames_scores` column.\n",
    "\n",
    "As we are not interested in `frames_scores` we can remove this column completely.\n",
    "\n",
    "The `date` column however is useful to us, luckily in the `tournaments.csv` file it contains both the `season` and `year` of each tournament. We can use the `tournament_id` to get this information and create a new column in the `matches.csv` file.\n",
    "\n",
    "We will do this later but for now we can drop the `date` and `frames_scores` as they are not necessary.\n",
    "\n",
    "Looking further into the DataFrame, there are some more unecessary columns that won't be needed for the analysis we are looking at in this project.\n",
    "* `player1_url`\n",
    "* `player2_url`\n",
    "* `is_walkover`"
   ]
  },
  {
   "cell_type": "code",
   "execution_count": 8,
   "metadata": {},
   "outputs": [],
   "source": [
    "# Create a copy of df_matches\n",
    "df_matches = df_matches.copy()\n",
    "\n",
    "# Delete date and frames_scores from df_matches\n",
    "df_matches = df_matches.drop(columns=['date', 'frames_scores', 'player1_url', 'player2_url', 'is_walkover'])"
   ]
  },
  {
   "cell_type": "code",
   "execution_count": 9,
   "metadata": {},
   "outputs": [
    {
     "data": {
      "text/html": [
       "<div>\n",
       "<style scoped>\n",
       "    .dataframe tbody tr th:only-of-type {\n",
       "        vertical-align: middle;\n",
       "    }\n",
       "\n",
       "    .dataframe tbody tr th {\n",
       "        vertical-align: top;\n",
       "    }\n",
       "\n",
       "    .dataframe thead th {\n",
       "        text-align: right;\n",
       "    }\n",
       "</style>\n",
       "<table border=\"1\" class=\"dataframe\">\n",
       "  <thead>\n",
       "    <tr style=\"text-align: right;\">\n",
       "      <th></th>\n",
       "      <th>tournament_id</th>\n",
       "      <th>match_id</th>\n",
       "      <th>stage</th>\n",
       "      <th>best_of</th>\n",
       "      <th>player1_name</th>\n",
       "      <th>player2_name</th>\n",
       "      <th>score1</th>\n",
       "      <th>score2</th>\n",
       "    </tr>\n",
       "  </thead>\n",
       "  <tbody>\n",
       "    <tr>\n",
       "      <th>0</th>\n",
       "      <td>753</td>\n",
       "      <td>82716</td>\n",
       "      <td>Final</td>\n",
       "      <td>31</td>\n",
       "      <td>Terry Griffiths</td>\n",
       "      <td>Alex Higgins</td>\n",
       "      <td>16</td>\n",
       "      <td>15</td>\n",
       "    </tr>\n",
       "    <tr>\n",
       "      <th>1</th>\n",
       "      <td>753</td>\n",
       "      <td>82718</td>\n",
       "      <td>Semi-final</td>\n",
       "      <td>17</td>\n",
       "      <td>Terry Griffiths</td>\n",
       "      <td>Tony Meo</td>\n",
       "      <td>9</td>\n",
       "      <td>7</td>\n",
       "    </tr>\n",
       "    <tr>\n",
       "      <th>2</th>\n",
       "      <td>753</td>\n",
       "      <td>82717</td>\n",
       "      <td>Semi-final</td>\n",
       "      <td>17</td>\n",
       "      <td>Alex Higgins</td>\n",
       "      <td>Ray Reardon</td>\n",
       "      <td>9</td>\n",
       "      <td>6</td>\n",
       "    </tr>\n",
       "    <tr>\n",
       "      <th>3</th>\n",
       "      <td>753</td>\n",
       "      <td>82721</td>\n",
       "      <td>Quarter-final</td>\n",
       "      <td>17</td>\n",
       "      <td>Terry Griffiths</td>\n",
       "      <td>Steve Davis</td>\n",
       "      <td>9</td>\n",
       "      <td>6</td>\n",
       "    </tr>\n",
       "    <tr>\n",
       "      <th>4</th>\n",
       "      <td>753</td>\n",
       "      <td>82719</td>\n",
       "      <td>Quarter-final</td>\n",
       "      <td>17</td>\n",
       "      <td>Alex Higgins</td>\n",
       "      <td>John Spencer</td>\n",
       "      <td>9</td>\n",
       "      <td>5</td>\n",
       "    </tr>\n",
       "  </tbody>\n",
       "</table>\n",
       "</div>"
      ],
      "text/plain": [
       "   tournament_id  match_id          stage  best_of     player1_name  \\\n",
       "0            753     82716          Final       31  Terry Griffiths   \n",
       "1            753     82718     Semi-final       17  Terry Griffiths   \n",
       "2            753     82717     Semi-final       17     Alex Higgins   \n",
       "3            753     82721  Quarter-final       17  Terry Griffiths   \n",
       "4            753     82719  Quarter-final       17     Alex Higgins   \n",
       "\n",
       "   player2_name  score1  score2  \n",
       "0  Alex Higgins      16      15  \n",
       "1      Tony Meo       9       7  \n",
       "2   Ray Reardon       9       6  \n",
       "3   Steve Davis       9       6  \n",
       "4  John Spencer       9       5  "
      ]
     },
     "execution_count": 9,
     "metadata": {},
     "output_type": "execute_result"
    }
   ],
   "source": [
    "# Display the head of df_matches after cleaning\n",
    "df_matches.head()"
   ]
  },
  {
   "cell_type": "code",
   "execution_count": 10,
   "metadata": {},
   "outputs": [
    {
     "data": {
      "text/plain": [
       "tournament_id    0\n",
       "match_id         0\n",
       "stage            0\n",
       "best_of          0\n",
       "player1_name     0\n",
       "player2_name     0\n",
       "score1           0\n",
       "score2           0\n",
       "dtype: int64"
      ]
     },
     "execution_count": 10,
     "metadata": {},
     "output_type": "execute_result"
    }
   ],
   "source": [
    "# Check missing values in the dataframe\n",
    "df_matches.isnull().sum()"
   ]
  },
  {
   "cell_type": "markdown",
   "metadata": {},
   "source": [
    "As you can see from the code cell above we now have a cleaned `matches.csv` dataset with no null values.\n",
    "\n",
    "In the next cell I will save this to a new .csv file and continue working on the other dataframes."
   ]
  },
  {
   "cell_type": "code",
   "execution_count": 11,
   "metadata": {},
   "outputs": [],
   "source": [
    "# Save cleaned DataFrame to a new .csv file\n",
    "df_matches.to_csv(os.path.join(clean_data_dir, 'matches_cleaned.csv'), index=False)"
   ]
  },
  {
   "cell_type": "markdown",
   "metadata": {
    "id": "uFQo3ycuO-v6"
   },
   "source": [
    "# Section 2"
   ]
  },
  {
   "cell_type": "markdown",
   "metadata": {},
   "source": [
    "Section 2 content"
   ]
  },
  {
   "cell_type": "code",
   "execution_count": null,
   "metadata": {},
   "outputs": [],
   "source": []
  },
  {
   "cell_type": "markdown",
   "metadata": {},
   "source": [
    "---"
   ]
  },
  {
   "cell_type": "markdown",
   "metadata": {},
   "source": [
    "NOTE"
   ]
  },
  {
   "cell_type": "markdown",
   "metadata": {},
   "source": [
    "* You may add as many sections as you want, as long as it supports your project workflow.\n",
    "* All notebook's cells should be run top-down (you can't create a dynamic wherein a given point you need to go back to a previous cell to execute some task, like go back to a previous cell and refresh a variable content)"
   ]
  },
  {
   "cell_type": "markdown",
   "metadata": {},
   "source": [
    "---"
   ]
  },
  {
   "cell_type": "markdown",
   "metadata": {
    "id": "ltNetd085qHf"
   },
   "source": [
    "# Push files to Repo"
   ]
  },
  {
   "cell_type": "markdown",
   "metadata": {},
   "source": [
    "* In cases where you don't need to push files to Repo, you may replace this section with \"Conclusions and Next Steps\" and state your conclusions and next steps."
   ]
  },
  {
   "cell_type": "code",
   "execution_count": 58,
   "metadata": {
    "id": "aKlnIozA4eQO",
    "outputId": "fd09bc1f-adb1-4511-f6ce-492a6af570c0"
   },
   "outputs": [
    {
     "ename": "IndentationError",
     "evalue": "expected an indented block after 'try' statement on line 2 (553063055.py, line 5)",
     "output_type": "error",
     "traceback": [
      "  \u001b[36mCell\u001b[39m\u001b[36m \u001b[39m\u001b[32mIn[58]\u001b[39m\u001b[32m, line 5\u001b[39m\n\u001b[31m    \u001b[39m\u001b[31mexcept Exception as e:\u001b[39m\n    ^\n\u001b[31mIndentationError\u001b[39m\u001b[31m:\u001b[39m expected an indented block after 'try' statement on line 2\n"
     ]
    }
   ],
   "source": [
    "import os\n",
    "try:\n",
    "  # create your folder here\n",
    "  # os.makedirs(name='')\n",
    "except Exception as e:\n",
    "  print(e)\n"
   ]
  }
 ],
 "metadata": {
  "accelerator": "GPU",
  "colab": {
   "name": "Data Practitioner Jupyter Notebook.ipynb",
   "provenance": [],
   "toc_visible": true
  },
  "kernelspec": {
   "display_name": ".venv",
   "language": "python",
   "name": "python3"
  },
  "language_info": {
   "codemirror_mode": {
    "name": "ipython",
    "version": 3
   },
   "file_extension": ".py",
   "mimetype": "text/x-python",
   "name": "python",
   "nbconvert_exporter": "python",
   "pygments_lexer": "ipython3",
   "version": "3.12.2"
  },
  "orig_nbformat": 2
 },
 "nbformat": 4,
 "nbformat_minor": 2
}
