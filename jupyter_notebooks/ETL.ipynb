{
  "cells": [
    {
      "cell_type": "markdown",
      "metadata": {
        "id": "0aStgWSO0E0E"
      },
      "source": [
        "# **Extract, Transform, Load (ETL) Process**"
      ]
    },
    {
      "cell_type": "markdown",
      "metadata": {
        "id": "1eLEkw5O0ECa"
      },
      "source": [
        "## Objectives\n",
        "\n",
        "* The objective of this notebook is to perform an ETL process of the data I have gathered from Kaggle.\n",
        "* I have fetched the data which you can find in the datasets/raw folder.\n",
        "* There are 4 related csv files that contain foreign keys that relate to eachother such as player_id, match_id and tournament_id. I will use these keys to clean and merge the data.\n",
        "## Inputs\n",
        "\n",
        "* My inputs are 4 csv files:\n",
        "    * matches.csv\n",
        "    * players.csv\n",
        "    * scores.csv\n",
        "    * tournaments.csv\n",
        "\n",
        "## Outputs\n",
        "\n",
        "* I am going to output one main table. From this table I will filter information into smaller csv files where I can work on them more easily to create visualisations.\n",
        "\n",
        "## Additional Comments\n",
        "\n",
        "* If you have any additional comments that don't fit in the previous bullets, please state them here. \n",
        "\n"
      ]
    },
    {
      "cell_type": "markdown",
      "metadata": {
        "id": "9uWZXH9LwoQg"
      },
      "source": [
        "---"
      ]
    },
    {
      "cell_type": "markdown",
      "metadata": {
        "id": "cqP-UeN-z3i2"
      },
      "source": [
        "# Change working directory"
      ]
    },
    {
      "cell_type": "markdown",
      "metadata": {},
      "source": [
        "* We are assuming you will store the notebooks in a subfolder, therefore when running the notebook in the editor, you will need to change the working directory"
      ]
    },
    {
      "cell_type": "markdown",
      "metadata": {
        "id": "aOGIGS-uz3i2"
      },
      "source": [
        "We need to change the working directory from its current folder to its parent folder\n",
        "* We access the current directory with os.getcwd()"
      ]
    },
    {
      "cell_type": "code",
      "execution_count": 1,
      "metadata": {
        "id": "wZfF_j-Bz3i4",
        "outputId": "66943449-1436-4c3d-85c7-b85f9f78349b"
      },
      "outputs": [
        {
          "data": {
            "text/plain": [
              "'/Users/stephenbeese/GitHub/Snooker-Data-Analysis/Snooker-Data-Analysis/jupyter_notebooks'"
            ]
          },
          "execution_count": 1,
          "metadata": {},
          "output_type": "execute_result"
        }
      ],
      "source": [
        "import os\n",
        "current_dir = os.getcwd()\n",
        "current_dir\n"
      ]
    },
    {
      "cell_type": "markdown",
      "metadata": {
        "id": "9MWW8E7lz3i7"
      },
      "source": [
        "We want to make the parent of the current directory the new current directory\n",
        "* os.path.dirname() gets the parent directory\n",
        "* os.chir() defines the new current directory"
      ]
    },
    {
      "cell_type": "code",
      "execution_count": 2,
      "metadata": {
        "id": "TwHsQRWjz3i9",
        "outputId": "86849db3-cd2f-4cc5-ebb8-2d0caafa1a2c"
      },
      "outputs": [
        {
          "name": "stdout",
          "output_type": "stream",
          "text": [
            "You set a new current directory\n"
          ]
        }
      ],
      "source": [
        "os.chdir(os.path.dirname(current_dir))\n",
        "print(\"You set a new current directory\")"
      ]
    },
    {
      "cell_type": "markdown",
      "metadata": {
        "id": "M_xPk_Ijz3i-"
      },
      "source": [
        "Confirm the new current directory"
      ]
    },
    {
      "cell_type": "code",
      "execution_count": 4,
      "metadata": {
        "id": "vz3S-_kjz3jA",
        "outputId": "00b79ae4-75d0-4a96-d193-ac9ef9847ea2"
      },
      "outputs": [
        {
          "data": {
            "text/plain": [
              "'/Users/stephenbeese/GitHub/Snooker-Data-Analysis/Snooker-Data-Analysis'"
            ]
          },
          "execution_count": 4,
          "metadata": {},
          "output_type": "execute_result"
        }
      ],
      "source": [
        "current_dir = os.getcwd()\n",
        "current_dir"
      ]
    },
    {
      "cell_type": "markdown",
      "metadata": {},
      "source": [
        "# Imports\n",
        "\n",
        "To clean and merge this data I will first need to import some libraries"
      ]
    },
    {
      "cell_type": "code",
      "execution_count": 5,
      "metadata": {},
      "outputs": [],
      "source": [
        "import numpy as np\n",
        "import pandas as pd"
      ]
    },
    {
      "cell_type": "markdown",
      "metadata": {
        "id": "-mavJ8DibrcQ"
      },
      "source": [
        "# Section 1 - Load the Data into DataFrames"
      ]
    },
    {
      "cell_type": "markdown",
      "metadata": {},
      "source": [
        "Step 1 - Load data from datasets/raw folder into data frames"
      ]
    },
    {
      "cell_type": "code",
      "execution_count": 12,
      "metadata": {},
      "outputs": [],
      "source": [
        "raw_data_dir = os.path.join(current_dir, 'datasets/raw')\n",
        "\n",
        "df_matches = pd.read_csv(os.path.join(raw_data_dir, 'matches.csv'))\n",
        "df_players = pd.read_csv(os.path.join(raw_data_dir, 'players.csv'))\n",
        "df_scores = pd.read_csv(os.path.join(raw_data_dir, 'scores.csv'))\n",
        "df_tournaments = pd.read_csv(os.path.join(raw_data_dir, 'tournaments.csv'))\n"
      ]
    },
    {
      "cell_type": "code",
      "execution_count": null,
      "metadata": {},
      "outputs": [
        {
          "data": {
            "text/html": [
              "<div>\n",
              "<style scoped>\n",
              "    .dataframe tbody tr th:only-of-type {\n",
              "        vertical-align: middle;\n",
              "    }\n",
              "\n",
              "    .dataframe tbody tr th {\n",
              "        vertical-align: top;\n",
              "    }\n",
              "\n",
              "    .dataframe thead th {\n",
              "        text-align: right;\n",
              "    }\n",
              "</style>\n",
              "<table border=\"1\" class=\"dataframe\">\n",
              "  <thead>\n",
              "    <tr style=\"text-align: right;\">\n",
              "      <th></th>\n",
              "      <th>id</th>\n",
              "      <th>season</th>\n",
              "      <th>year</th>\n",
              "      <th>name</th>\n",
              "      <th>full_name</th>\n",
              "      <th>url</th>\n",
              "      <th>status</th>\n",
              "      <th>category</th>\n",
              "      <th>prize</th>\n",
              "      <th>country</th>\n",
              "      <th>city</th>\n",
              "    </tr>\n",
              "  </thead>\n",
              "  <tbody>\n",
              "    <tr>\n",
              "      <th>0</th>\n",
              "      <td>753</td>\n",
              "      <td>1982-1983</td>\n",
              "      <td>1982</td>\n",
              "      <td>UK Championship</td>\n",
              "      <td>1982 UK Championship</td>\n",
              "      <td>https://cuetracker.net/tournaments/uk-champion...</td>\n",
              "      <td>Professional</td>\n",
              "      <td>Non-ranking</td>\n",
              "      <td>47000.0</td>\n",
              "      <td>England</td>\n",
              "      <td>Preston</td>\n",
              "    </tr>\n",
              "    <tr>\n",
              "      <th>1</th>\n",
              "      <td>1140</td>\n",
              "      <td>1982-1983</td>\n",
              "      <td>1982</td>\n",
              "      <td>World Amateur Championship - Men</td>\n",
              "      <td>1982 World Amateur Championship - Men</td>\n",
              "      <td>https://cuetracker.net/tournaments/world-amate...</td>\n",
              "      <td>Amateur</td>\n",
              "      <td>World Event</td>\n",
              "      <td>0.0</td>\n",
              "      <td>Canada</td>\n",
              "      <td>Calgary</td>\n",
              "    </tr>\n",
              "    <tr>\n",
              "      <th>2</th>\n",
              "      <td>762</td>\n",
              "      <td>1982-1983</td>\n",
              "      <td>1982</td>\n",
              "      <td>Professional Players Tournament</td>\n",
              "      <td>1982 Professional Players Tournament</td>\n",
              "      <td>https://cuetracker.net/tournaments/professiona...</td>\n",
              "      <td>Professional</td>\n",
              "      <td>Ranking</td>\n",
              "      <td>31500.0</td>\n",
              "      <td>England</td>\n",
              "      <td>Birmingham</td>\n",
              "    </tr>\n",
              "    <tr>\n",
              "      <th>3</th>\n",
              "      <td>2586</td>\n",
              "      <td>1982-1983</td>\n",
              "      <td>1982</td>\n",
              "      <td>Pontins Autumn Open</td>\n",
              "      <td>1982 Pontins Autumn Open</td>\n",
              "      <td>https://cuetracker.net/tournaments/pontins-aut...</td>\n",
              "      <td>Pro-am</td>\n",
              "      <td>Event</td>\n",
              "      <td>0.0</td>\n",
              "      <td>Wales</td>\n",
              "      <td>Prestatyn</td>\n",
              "    </tr>\n",
              "    <tr>\n",
              "      <th>4</th>\n",
              "      <td>754</td>\n",
              "      <td>1982-1983</td>\n",
              "      <td>1982</td>\n",
              "      <td>International Open</td>\n",
              "      <td>1982 International Open</td>\n",
              "      <td>https://cuetracker.net/tournaments/internation...</td>\n",
              "      <td>Professional</td>\n",
              "      <td>Ranking</td>\n",
              "      <td>73500.0</td>\n",
              "      <td>England</td>\n",
              "      <td>Derby</td>\n",
              "    </tr>\n",
              "    <tr>\n",
              "      <th>...</th>\n",
              "      <td>...</td>\n",
              "      <td>...</td>\n",
              "      <td>...</td>\n",
              "      <td>...</td>\n",
              "      <td>...</td>\n",
              "      <td>...</td>\n",
              "      <td>...</td>\n",
              "      <td>...</td>\n",
              "      <td>...</td>\n",
              "      <td>...</td>\n",
              "      <td>...</td>\n",
              "    </tr>\n",
              "    <tr>\n",
              "      <th>2715</th>\n",
              "      <td>2884</td>\n",
              "      <td>2018-2019</td>\n",
              "      <td>2019</td>\n",
              "      <td>Guernsey Amateur Championship</td>\n",
              "      <td>2019 Guernsey Amateur Championship</td>\n",
              "      <td>https://cuetracker.net/tournaments/guernsey-am...</td>\n",
              "      <td>Amateur</td>\n",
              "      <td>National Championship</td>\n",
              "      <td>0.0</td>\n",
              "      <td>Guernsey</td>\n",
              "      <td>Various</td>\n",
              "    </tr>\n",
              "    <tr>\n",
              "      <th>2716</th>\n",
              "      <td>3321</td>\n",
              "      <td>2019-2020</td>\n",
              "      <td>2020</td>\n",
              "      <td>English Amateur Championship</td>\n",
              "      <td>2020 English Amateur Championship</td>\n",
              "      <td>https://cuetracker.net/tournaments/english-ama...</td>\n",
              "      <td>Amateur</td>\n",
              "      <td>National Championship</td>\n",
              "      <td>0.0</td>\n",
              "      <td>England</td>\n",
              "      <td>Cheltenham</td>\n",
              "    </tr>\n",
              "    <tr>\n",
              "      <th>2717</th>\n",
              "      <td>3362</td>\n",
              "      <td>NaN</td>\n",
              "      <td>2020</td>\n",
              "      <td>3 Kings Open</td>\n",
              "      <td>2020 3 Kings Open</td>\n",
              "      <td>https://cuetracker.net/tournaments/3-kings-ope...</td>\n",
              "      <td>Pro-am</td>\n",
              "      <td>Event</td>\n",
              "      <td>0.0</td>\n",
              "      <td>Austria</td>\n",
              "      <td>Rankweil</td>\n",
              "    </tr>\n",
              "    <tr>\n",
              "      <th>2718</th>\n",
              "      <td>3357</td>\n",
              "      <td>2019-2020</td>\n",
              "      <td>2020</td>\n",
              "      <td>Singapore Amateur Championship</td>\n",
              "      <td>2020 Singapore Amateur Championship</td>\n",
              "      <td>https://cuetracker.net/tournaments/singapore-a...</td>\n",
              "      <td>Amateur</td>\n",
              "      <td>National Championship</td>\n",
              "      <td>0.0</td>\n",
              "      <td>Singapore</td>\n",
              "      <td>Singapore</td>\n",
              "    </tr>\n",
              "    <tr>\n",
              "      <th>2719</th>\n",
              "      <td>3275</td>\n",
              "      <td>2019-2020</td>\n",
              "      <td>2020</td>\n",
              "      <td>Championship League</td>\n",
              "      <td>2020 Championship League</td>\n",
              "      <td>https://cuetracker.net/tournaments/championshi...</td>\n",
              "      <td>Professional</td>\n",
              "      <td>League</td>\n",
              "      <td>0.0</td>\n",
              "      <td>England</td>\n",
              "      <td>Leicester</td>\n",
              "    </tr>\n",
              "  </tbody>\n",
              "</table>\n",
              "<p>2720 rows × 11 columns</p>\n",
              "</div>"
            ],
            "text/plain": [
              "        id     season  year                              name  \\\n",
              "0      753  1982-1983  1982                   UK Championship   \n",
              "1     1140  1982-1983  1982  World Amateur Championship - Men   \n",
              "2      762  1982-1983  1982   Professional Players Tournament   \n",
              "3     2586  1982-1983  1982               Pontins Autumn Open   \n",
              "4      754  1982-1983  1982                International Open   \n",
              "...    ...        ...   ...                               ...   \n",
              "2715  2884  2018-2019  2019     Guernsey Amateur Championship   \n",
              "2716  3321  2019-2020  2020      English Amateur Championship   \n",
              "2717  3362        NaN  2020                      3 Kings Open   \n",
              "2718  3357  2019-2020  2020    Singapore Amateur Championship   \n",
              "2719  3275  2019-2020  2020               Championship League   \n",
              "\n",
              "                                  full_name  \\\n",
              "0                      1982 UK Championship   \n",
              "1     1982 World Amateur Championship - Men   \n",
              "2      1982 Professional Players Tournament   \n",
              "3                  1982 Pontins Autumn Open   \n",
              "4                   1982 International Open   \n",
              "...                                     ...   \n",
              "2715     2019 Guernsey Amateur Championship   \n",
              "2716      2020 English Amateur Championship   \n",
              "2717                      2020 3 Kings Open   \n",
              "2718    2020 Singapore Amateur Championship   \n",
              "2719               2020 Championship League   \n",
              "\n",
              "                                                    url        status  \\\n",
              "0     https://cuetracker.net/tournaments/uk-champion...  Professional   \n",
              "1     https://cuetracker.net/tournaments/world-amate...       Amateur   \n",
              "2     https://cuetracker.net/tournaments/professiona...  Professional   \n",
              "3     https://cuetracker.net/tournaments/pontins-aut...        Pro-am   \n",
              "4     https://cuetracker.net/tournaments/internation...  Professional   \n",
              "...                                                 ...           ...   \n",
              "2715  https://cuetracker.net/tournaments/guernsey-am...       Amateur   \n",
              "2716  https://cuetracker.net/tournaments/english-ama...       Amateur   \n",
              "2717  https://cuetracker.net/tournaments/3-kings-ope...        Pro-am   \n",
              "2718  https://cuetracker.net/tournaments/singapore-a...       Amateur   \n",
              "2719  https://cuetracker.net/tournaments/championshi...  Professional   \n",
              "\n",
              "                   category    prize    country        city  \n",
              "0               Non-ranking  47000.0    England     Preston  \n",
              "1               World Event      0.0     Canada     Calgary  \n",
              "2                   Ranking  31500.0    England  Birmingham  \n",
              "3                     Event      0.0      Wales   Prestatyn  \n",
              "4                   Ranking  73500.0    England       Derby  \n",
              "...                     ...      ...        ...         ...  \n",
              "2715  National Championship      0.0   Guernsey     Various  \n",
              "2716  National Championship      0.0    England  Cheltenham  \n",
              "2717                  Event      0.0    Austria    Rankweil  \n",
              "2718  National Championship      0.0  Singapore   Singapore  \n",
              "2719                 League      0.0    England   Leicester  \n",
              "\n",
              "[2720 rows x 11 columns]"
            ]
          },
          "execution_count": 18,
          "metadata": {},
          "output_type": "execute_result"
        }
      ],
      "source": [
        "# Display the head of df_matches\n",
        "df_matches.head()"
      ]
    },
    {
      "cell_type": "markdown",
      "metadata": {
        "id": "ZY3l0-AxO93d"
      },
      "source": [
        "---"
      ]
    },
    {
      "cell_type": "markdown",
      "metadata": {
        "id": "uFQo3ycuO-v6"
      },
      "source": [
        "# Section 2"
      ]
    },
    {
      "cell_type": "markdown",
      "metadata": {},
      "source": [
        "Section 2 content"
      ]
    },
    {
      "cell_type": "code",
      "execution_count": null,
      "metadata": {},
      "outputs": [],
      "source": []
    },
    {
      "cell_type": "markdown",
      "metadata": {},
      "source": [
        "---"
      ]
    },
    {
      "cell_type": "markdown",
      "metadata": {},
      "source": [
        "NOTE"
      ]
    },
    {
      "cell_type": "markdown",
      "metadata": {},
      "source": [
        "* You may add as many sections as you want, as long as it supports your project workflow.\n",
        "* All notebook's cells should be run top-down (you can't create a dynamic wherein a given point you need to go back to a previous cell to execute some task, like go back to a previous cell and refresh a variable content)"
      ]
    },
    {
      "cell_type": "markdown",
      "metadata": {},
      "source": [
        "---"
      ]
    },
    {
      "cell_type": "markdown",
      "metadata": {
        "id": "ltNetd085qHf"
      },
      "source": [
        "# Push files to Repo"
      ]
    },
    {
      "cell_type": "markdown",
      "metadata": {},
      "source": [
        "* In cases where you don't need to push files to Repo, you may replace this section with \"Conclusions and Next Steps\" and state your conclusions and next steps."
      ]
    },
    {
      "cell_type": "code",
      "execution_count": null,
      "metadata": {
        "id": "aKlnIozA4eQO",
        "outputId": "fd09bc1f-adb1-4511-f6ce-492a6af570c0"
      },
      "outputs": [],
      "source": [
        "import os\n",
        "try:\n",
        "  # create your folder here\n",
        "  # os.makedirs(name='')\n",
        "except Exception as e:\n",
        "  print(e)\n"
      ]
    }
  ],
  "metadata": {
    "accelerator": "GPU",
    "colab": {
      "name": "Data Practitioner Jupyter Notebook.ipynb",
      "provenance": [],
      "toc_visible": true
    },
    "kernelspec": {
      "display_name": ".venv",
      "language": "python",
      "name": "python3"
    },
    "language_info": {
      "codemirror_mode": {
        "name": "ipython",
        "version": 3
      },
      "file_extension": ".py",
      "mimetype": "text/x-python",
      "name": "python",
      "nbconvert_exporter": "python",
      "pygments_lexer": "ipython3",
      "version": "3.12.2"
    },
    "orig_nbformat": 2
  },
  "nbformat": 4,
  "nbformat_minor": 2
}
