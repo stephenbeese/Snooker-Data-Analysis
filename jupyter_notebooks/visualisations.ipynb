{
  "cells": [
    {
      "cell_type": "markdown",
      "metadata": {
        "id": "0aStgWSO0E0E"
      },
      "source": [
        "# **Analysis and Visualisations**"
      ]
    },
    {
      "cell_type": "markdown",
      "metadata": {
        "id": "1eLEkw5O0ECa"
      },
      "source": [
        "## Objectives\n",
        "\n",
        "* Analyse how professional snooker has **internationalised since the 1980s.**\n",
        "* Compute season-level **KPIs** and produce clear visuals for:\n",
        "    * **International events**: Compare the number of UK and International tournaments.\n",
        "    * **Players**: Analyse the number of international players per seasons and see how well they perform in each tournament\n",
        "    * **Money**: Average prize money per event (UK vs Rest of World), has the prize pool become diluted?\n",
        "* Explore correlations:\n",
        "    * Number of International players per season ↔ Number of International Tournaments per season\n",
        "    * International presence in late stages of tournament ↔ Rise in number of International Tournaments/Players\n",
        "    * Rise in number of international tournaments ↔ Average prize pool per event\n",
        "* Deliver static (Matplotlib/Seaborn) and interactive (Plotly) charts suitable for the final report.\n",
        "\n",
        "## Inputs\n",
        "\n",
        "* **Processed data from ETL (read-only in this notebook):**\n",
        "\n",
        "  * `datasets/clean/master_cleaned.csv` (Master dataset, used for filtering and breaking down into smaller datasets)\n",
        "  * `datasets/clean/triple_crown_events.csv`(Subset of the master data set only including triple crown events)\n",
        "  * \n",
        "\n",
        "\n",
        "## Outputs\n",
        "\n",
        "* Write here which files, code or artefacts you generate by the end of the notebook \n",
        "\n",
        "## Additional Comments\n",
        "\n",
        "* **Definitions:**\n",
        "  * **UK** = England, Scotland, Wales, Northern Ireland, and Ireland.\n",
        "  * **International event** = tournament hosted outside the UK.\n",
        "  * **International player** = nationality not in UK home nations.\n",
        "  * **International Match** = One or more player's nationality is not in UK home nations.\n",
        "  * **Late stage (QF+)** = Quarter Final, Semi Final, Final\n",
        "  * **Triple Crown** = World Championship, UK Championship, Masters."
      ]
    },
    {
      "cell_type": "markdown",
      "metadata": {},
      "source": [
        "## Context\n",
        "\n",
        "### A brief introduction to the history of snooker\n",
        "\n",
        "Snooker is a **billiards** sport developed in the late 19th century by British Army officers stationed in India. The term *snooker* was army slang for a novice. After early variations, a standardised ruleset (including the respotted black) was adopted in **1919**.\n",
        "\n",
        "In the 1920s, **Joe Davis**—an English professional—organised the first **World Snooker Championship (1926–27)** and then dominated the early era, winning **15 consecutive** titles before retiring unbeaten. Through these decades, snooker remained largely a club game with modest audiences.\n",
        "\n",
        "The sport’s modern boom arrived with **colour television in the UK**. To showcase the new medium, the BBC launched the one-frame TV event ***Pot Black*** in the late 1960s, proving snooker’s TV appeal and paving the way for extensive coverage of the **World Championship**, **Masters**, and **UK Championship**—the **Triple Crown**—which the BBC still broadcasts.\n",
        "\n",
        "#### Why early snooker was so UK-based\n",
        "\n",
        "* **Administration and venues** were UK-centred; since **1977**, the World Championship has been staged at the **Crucible Theatre, Sheffield**, anchoring the sport’s pinnacle in Britain. ([wpbsa.com][1])\n",
        "* **Broadcast economics** (notably the BBC) concentrated visibility and money in the **UK market**.\n",
        "* The **player base and champions** were overwhelmingly from the **UK & Ireland**, reinforcing a domestic core.\n",
        "\n",
        "#### Non-UK world champions\n",
        "\n",
        "Depending on definition, there are **five (modern era)** non-UK winners:\n",
        "\n",
        "* **Modern era / since the Crucible era**: **Cliff Thorburn** (Canada, 1980), **Neil Robertson** (Australia, 2010), **Luca Brecel** (Belgium, 2023), **Zhao Xintong** (China, 2025). ([Wikipedia][2], [Sky Sports][3])\n",
        "* **Including pre-Crucible**: add **Horace Lindrum** (Australia, 1952). ([Wikipedia][4])\n",
        "\n",
        "Notably, **Brecel in 2023** became the first champion from mainland Europe, and **Zhao Xintong in 2025** became the first Chinese (and Asian) world champion—two non-UK winners in the **last three completed championships**. ([The Guardian][5], [Sky Sports][3])\n",
        "\n",
        "---\n",
        "\n",
        "[1]: https://wpbsa.com/about-us/history/?utm_source=chatgpt.com \"History Timeline | WPBSA | Snooker\"\n",
        "[2]: https://en.wikipedia.org/wiki/1980_World_Snooker_Championship?utm_source=chatgpt.com \"1980 World Snooker Championship\"\n",
        "[3]: https://www.skysports.com/more-sports/snooker/news/12243/13349846/world-snooker-championship-2025-schedule-scores-and-results-from-the-crucible-ronnie-osullivan-judd-trump?utm_source=chatgpt.com \"World Snooker Championship 2025 - Sky Sports\"\n",
        "[4]: https://en.wikipedia.org/wiki/World_Snooker_Championship?utm_source=chatgpt.com \"World Snooker Championship\"\n",
        "[5]: https://www.theguardian.com/sport/live/2023/may/01/world-snooker-championship-crucible-2023-final-mark-selby-luca-brecel-live?utm_source=chatgpt.com \"Luca Brecel defeats Mark Selby to win World Snooker Championship 2023 final - as it happened\"\n"
      ]
    },
    {
      "cell_type": "markdown",
      "metadata": {
        "id": "cqP-UeN-z3i2"
      },
      "source": [
        "# Change working directory"
      ]
    },
    {
      "cell_type": "markdown",
      "metadata": {},
      "source": [
        "* We are assuming you will store the notebooks in a subfolder, therefore when running the notebook in the editor, you will need to change the working directory"
      ]
    },
    {
      "cell_type": "markdown",
      "metadata": {
        "id": "aOGIGS-uz3i2"
      },
      "source": [
        "We need to change the working directory from its current folder to its parent folder\n",
        "* We access the current directory with os.getcwd()"
      ]
    },
    {
      "cell_type": "code",
      "execution_count": null,
      "metadata": {
        "id": "wZfF_j-Bz3i4",
        "outputId": "66943449-1436-4c3d-85c7-b85f9f78349b"
      },
      "outputs": [],
      "source": [
        "import os\n",
        "current_dir = os.getcwd()\n",
        "current_dir"
      ]
    },
    {
      "cell_type": "markdown",
      "metadata": {
        "id": "9MWW8E7lz3i7"
      },
      "source": [
        "We want to make the parent of the current directory the new current directory\n",
        "* os.path.dirname() gets the parent directory\n",
        "* os.chir() defines the new current directory"
      ]
    },
    {
      "cell_type": "code",
      "execution_count": null,
      "metadata": {
        "id": "TwHsQRWjz3i9",
        "outputId": "86849db3-cd2f-4cc5-ebb8-2d0caafa1a2c"
      },
      "outputs": [],
      "source": [
        "os.chdir(os.path.dirname(current_dir))\n",
        "print(\"You set a new current directory\")"
      ]
    },
    {
      "cell_type": "markdown",
      "metadata": {
        "id": "M_xPk_Ijz3i-"
      },
      "source": [
        "Confirm the new current directory"
      ]
    },
    {
      "cell_type": "code",
      "execution_count": null,
      "metadata": {
        "id": "vz3S-_kjz3jA",
        "outputId": "00b79ae4-75d0-4a96-d193-ac9ef9847ea2"
      },
      "outputs": [],
      "source": [
        "current_dir = os.getcwd()\n",
        "current_dir"
      ]
    },
    {
      "cell_type": "markdown",
      "metadata": {
        "id": "-mavJ8DibrcQ"
      },
      "source": [
        "# Section 1"
      ]
    },
    {
      "cell_type": "markdown",
      "metadata": {},
      "source": [
        "Section 1 content"
      ]
    },
    {
      "cell_type": "code",
      "execution_count": null,
      "metadata": {},
      "outputs": [],
      "source": []
    },
    {
      "cell_type": "markdown",
      "metadata": {
        "id": "ZY3l0-AxO93d"
      },
      "source": [
        "---"
      ]
    },
    {
      "cell_type": "markdown",
      "metadata": {
        "id": "uFQo3ycuO-v6"
      },
      "source": [
        "# Section 2"
      ]
    },
    {
      "cell_type": "markdown",
      "metadata": {},
      "source": [
        "Section 2 content"
      ]
    },
    {
      "cell_type": "code",
      "execution_count": null,
      "metadata": {},
      "outputs": [],
      "source": []
    },
    {
      "cell_type": "markdown",
      "metadata": {},
      "source": [
        "---"
      ]
    },
    {
      "cell_type": "markdown",
      "metadata": {},
      "source": [
        "NOTE"
      ]
    },
    {
      "cell_type": "markdown",
      "metadata": {},
      "source": [
        "* You may add as many sections as you want, as long as it supports your project workflow.\n",
        "* All notebook's cells should be run top-down (you can't create a dynamic wherein a given point you need to go back to a previous cell to execute some task, like go back to a previous cell and refresh a variable content)"
      ]
    },
    {
      "cell_type": "markdown",
      "metadata": {},
      "source": [
        "---"
      ]
    },
    {
      "cell_type": "markdown",
      "metadata": {
        "id": "ltNetd085qHf"
      },
      "source": [
        "# Push files to Repo"
      ]
    },
    {
      "cell_type": "markdown",
      "metadata": {},
      "source": [
        "* In cases where you don't need to push files to Repo, you may replace this section with \"Conclusions and Next Steps\" and state your conclusions and next steps."
      ]
    },
    {
      "cell_type": "code",
      "execution_count": null,
      "metadata": {
        "id": "aKlnIozA4eQO",
        "outputId": "fd09bc1f-adb1-4511-f6ce-492a6af570c0"
      },
      "outputs": [],
      "source": [
        "import os\n",
        "try:\n",
        "  # create your folder here\n",
        "  # os.makedirs(name='')\n",
        "except Exception as e:\n",
        "  print(e)\n"
      ]
    }
  ],
  "metadata": {
    "accelerator": "GPU",
    "colab": {
      "name": "Data Practitioner Jupyter Notebook.ipynb",
      "provenance": [],
      "toc_visible": true
    },
    "interpreter": {
      "hash": "8b8334dab9339717f727a1deaf837b322d7a41c20d15cc86be99a8e69ceec8ce"
    },
    "kernelspec": {
      "display_name": "Python 3.8.12 64-bit ('3.8.12': pyenv)",
      "name": "python3"
    },
    "language_info": {
      "codemirror_mode": {
        "name": "ipython",
        "version": 3
      },
      "file_extension": ".py",
      "mimetype": "text/x-python",
      "name": "python",
      "nbconvert_exporter": "python",
      "pygments_lexer": "ipython3",
      "version": "3.8.12 (default, Nov  7 2022, 16:45:55) \n[GCC 9.4.0]"
    },
    "orig_nbformat": 2
  },
  "nbformat": 4,
  "nbformat_minor": 2
}
