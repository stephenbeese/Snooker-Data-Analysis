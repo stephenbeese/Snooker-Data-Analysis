{
  "cells": [
    {
      "cell_type": "markdown",
      "metadata": {
        "id": "0aStgWSO0E0E"
      },
      "source": [
        "# **Analysis and Visualisations**"
      ]
    },
    {
      "cell_type": "markdown",
      "metadata": {
        "id": "1eLEkw5O0ECa"
      },
      "source": [
        "## Objectives\n",
        "\n",
        "* Analyse how professional snooker has **internationalised since the 1980s.**\n",
        "* Compute season-level **KPIs** and produce clear visuals for:\n",
        "    * **International events**: Compare the number of UK and International tournaments.\n",
        "    * **Players**: Analyse the number of international players per seasons and see how well they perform in each tournament\n",
        "    * **Money**: Average prize money per event (UK vs Rest of World), has the prize pool become diluted?\n",
        "* Explore correlations:\n",
        "    * Number of International players per season ↔ Number of International Tournaments per season\n",
        "    * International presence in late stages of tournament ↔ Rise in number of International Tournaments/Players\n",
        "    * Rise in number of international tournaments ↔ Average prize pool per event\n",
        "* Deliver static (Matplotlib/Seaborn) and interactive (Plotly) charts suitable for the final report.\n",
        "\n",
        "## Inputs\n",
        "\n",
        "* **Processed data from ETL (read-only in this notebook):**\n",
        "\n",
        "  * `datasets/clean/master_cleaned.csv` (Master dataset, used for filtering and breaking down into smaller datasets)\n",
        "  * `datasets/clean/triple_crown_events.csv`(Subset of the master data set only including triple crown events)\n",
        "  * \n",
        "\n",
        "\n",
        "## Outputs\n",
        "\n",
        "* Write here which files, code or artefacts you generate by the end of the notebook \n",
        "\n",
        "## Additional Comments\n",
        "\n",
        "* **Definitions:**\n",
        "  * **UK** = England, Scotland, Wales, Northern Ireland, and Ireland.\n",
        "  * **International event** = tournament hosted outside the UK.\n",
        "  * **International player** = nationality not in UK home nations.\n",
        "  * **International Match** = One or more player's nationality is not in UK home nations.\n",
        "  * **Late stage (QF+)** = Quarter Final, Semi Final, Final\n",
        "  * **Triple Crown** = World Championship, UK Championship, Masters."
      ]
    },
    {
      "cell_type": "markdown",
      "metadata": {},
      "source": [
        "## Context\n",
        "\n",
        "### A brief introduction to the history of snooker\n",
        "\n",
        "Snooker is a **billiards** sport developed in the late 19th century by British Army officers stationed in India. The term *snooker* was army slang for a novice. After early variations, a standardised ruleset (including the respotted black) was adopted in **1919**.\n",
        "\n",
        "In the 1920s, **Joe Davis**—an English professional—organised the first **World Snooker Championship (1926–27)** and then dominated the early era, winning **15 consecutive** titles before retiring unbeaten. Through these decades, snooker remained largely a club game with modest audiences.\n",
        "\n",
        "The sport’s modern boom arrived with **colour television in the UK**. To showcase the new medium, the BBC launched the one-frame TV event ***Pot Black*** in the late 1960s, proving snooker’s TV appeal and paving the way for extensive coverage of the **World Championship**, **Masters**, and **UK Championship**—the **Triple Crown**—which the BBC still broadcasts.\n",
        "\n",
        "#### Why early snooker was so UK-based\n",
        "\n",
        "* **Administration and venues** were UK-centred; since **1977**, the World Championship has been staged at the **Crucible Theatre, Sheffield**, anchoring the sport’s pinnacle in Britain. ([wpbsa.com][1])\n",
        "* **Broadcast economics** (notably the BBC) concentrated visibility and money in the **UK market**.\n",
        "* The **player base and champions** were overwhelmingly from the **UK & Ireland**, reinforcing a domestic core.\n",
        "\n",
        "#### Non-UK world champions\n",
        "\n",
        "Depending on definition, there are **five (modern era)** non-UK winners:\n",
        "\n",
        "* **Modern era / since the Crucible era**: **Cliff Thorburn** (Canada, 1980), **Neil Robertson** (Australia, 2010), **Luca Brecel** (Belgium, 2023), **Zhao Xintong** (China, 2025). ([Wikipedia][2], [Sky Sports][3])\n",
        "* **Including pre-Crucible**: add **Horace Lindrum** (Australia, 1952). ([Wikipedia][4])\n",
        "\n",
        "Notably, **Brecel in 2023** became the first champion from mainland Europe, and **Zhao Xintong in 2025** became the first Chinese (and Asian) world champion—two non-UK winners in the **last three completed championships**. ([The Guardian][5], [Sky Sports][3])\n",
        "\n",
        "---\n",
        "\n",
        "[1]: https://wpbsa.com/about-us/history/?utm_source=chatgpt.com \"History Timeline | WPBSA | Snooker\"\n",
        "[2]: https://en.wikipedia.org/wiki/1980_World_Snooker_Championship?utm_source=chatgpt.com \"1980 World Snooker Championship\"\n",
        "[3]: https://www.skysports.com/more-sports/snooker/news/12243/13349846/world-snooker-championship-2025-schedule-scores-and-results-from-the-crucible-ronnie-osullivan-judd-trump?utm_source=chatgpt.com \"World Snooker Championship 2025 - Sky Sports\"\n",
        "[4]: https://en.wikipedia.org/wiki/World_Snooker_Championship?utm_source=chatgpt.com \"World Snooker Championship\"\n",
        "[5]: https://www.theguardian.com/sport/live/2023/may/01/world-snooker-championship-crucible-2023-final-mark-selby-luca-brecel-live?utm_source=chatgpt.com \"Luca Brecel defeats Mark Selby to win World Snooker Championship 2023 final - as it happened\"\n"
      ]
    },
    {
      "cell_type": "markdown",
      "metadata": {
        "id": "cqP-UeN-z3i2"
      },
      "source": [
        "# Change working directory"
      ]
    },
    {
      "cell_type": "markdown",
      "metadata": {},
      "source": [
        "* We are assuming you will store the notebooks in a subfolder, therefore when running the notebook in the editor, you will need to change the working directory"
      ]
    },
    {
      "cell_type": "markdown",
      "metadata": {
        "id": "aOGIGS-uz3i2"
      },
      "source": [
        "We need to change the working directory from its current folder to its parent folder\n",
        "* We access the current directory with os.getcwd()"
      ]
    },
    {
      "cell_type": "code",
      "execution_count": 1,
      "metadata": {
        "id": "wZfF_j-Bz3i4",
        "outputId": "66943449-1436-4c3d-85c7-b85f9f78349b"
      },
      "outputs": [
        {
          "data": {
            "text/plain": [
              "'/Users/stephenbeese/GitHub/Snooker-Data-Analysis/Snooker-Data-Analysis/jupyter_notebooks'"
            ]
          },
          "execution_count": 1,
          "metadata": {},
          "output_type": "execute_result"
        }
      ],
      "source": [
        "import os\n",
        "current_dir = os.getcwd()\n",
        "current_dir"
      ]
    },
    {
      "cell_type": "markdown",
      "metadata": {
        "id": "9MWW8E7lz3i7"
      },
      "source": [
        "We want to make the parent of the current directory the new current directory\n",
        "* os.path.dirname() gets the parent directory\n",
        "* os.chir() defines the new current directory"
      ]
    },
    {
      "cell_type": "code",
      "execution_count": 2,
      "metadata": {
        "id": "TwHsQRWjz3i9",
        "outputId": "86849db3-cd2f-4cc5-ebb8-2d0caafa1a2c"
      },
      "outputs": [
        {
          "name": "stdout",
          "output_type": "stream",
          "text": [
            "You set a new current directory\n"
          ]
        }
      ],
      "source": [
        "os.chdir(os.path.dirname(current_dir))\n",
        "print(\"You set a new current directory\")"
      ]
    },
    {
      "cell_type": "markdown",
      "metadata": {
        "id": "M_xPk_Ijz3i-"
      },
      "source": [
        "Confirm the new current directory"
      ]
    },
    {
      "cell_type": "code",
      "execution_count": 3,
      "metadata": {
        "id": "vz3S-_kjz3jA",
        "outputId": "00b79ae4-75d0-4a96-d193-ac9ef9847ea2"
      },
      "outputs": [
        {
          "data": {
            "text/plain": [
              "'/Users/stephenbeese/GitHub/Snooker-Data-Analysis/Snooker-Data-Analysis'"
            ]
          },
          "execution_count": 3,
          "metadata": {},
          "output_type": "execute_result"
        }
      ],
      "source": [
        "current_dir = os.getcwd()\n",
        "current_dir"
      ]
    },
    {
      "cell_type": "markdown",
      "metadata": {},
      "source": [
        "# Imports and Variables\n",
        "\n",
        "---"
      ]
    },
    {
      "cell_type": "code",
      "execution_count": 4,
      "metadata": {},
      "outputs": [
        {
          "name": "stdout",
          "output_type": "stream",
          "text": [
            "Imports complete\n"
          ]
        }
      ],
      "source": [
        "# Imports\n",
        "import numpy as np\n",
        "import pandas as pd\n",
        "import matplotlib.pyplot as plt\n",
        "import seaborn as sns\n",
        "import plotly.express as px\n",
        "\n",
        "print(\"Imports complete\")"
      ]
    },
    {
      "cell_type": "code",
      "execution_count": 5,
      "metadata": {},
      "outputs": [
        {
          "name": "stdout",
          "output_type": "stream",
          "text": [
            "DataFrames loaded\n"
          ]
        }
      ],
      "source": [
        "# Set the file path for raw data\n",
        "raw_data_dir = os.path.join(current_dir, 'datasets/raw')\n",
        "\n",
        "# Set the file path for clean data\n",
        "clean_data_dir = os.path.join(current_dir, 'datasets/clean')\n",
        "\n",
        "# DataFrames\n",
        "df_master = pd.read_csv(os.path.join(clean_data_dir, 'master_cleaned.csv'))\n",
        "df_triple_crown = pd.read_csv(os.path.join(clean_data_dir, 'triple_crown_events.csv'))\n",
        "df_tournaments = pd.read_csv(os.path.join(clean_data_dir, 'tournaments_cleaned.csv'))\n",
        "\n",
        "print(\"DataFrames loaded\")"
      ]
    },
    {
      "cell_type": "code",
      "execution_count": 6,
      "metadata": {},
      "outputs": [],
      "source": [
        "# Variables\n",
        "UK_countries = ['UK', 'England', 'Scotland', 'Wales', 'Northern Ireland', 'Ireland']\n",
        "triple_crown_events = ['World Championship', 'UK Championship', 'Masters']"
      ]
    },
    {
      "cell_type": "markdown",
      "metadata": {
        "id": "-mavJ8DibrcQ"
      },
      "source": [
        "# Section 1 - Rise in International Tournaments"
      ]
    },
    {
      "cell_type": "markdown",
      "metadata": {},
      "source": [
        "In this section I am going to look at how the number of international tournaments has risen over the years.\n",
        "\n",
        "This will be in comparison to the amount of UK tournaments held."
      ]
    },
    {
      "cell_type": "code",
      "execution_count": 7,
      "metadata": {},
      "outputs": [
        {
          "data": {
            "text/html": [
              "<div>\n",
              "<style scoped>\n",
              "    .dataframe tbody tr th:only-of-type {\n",
              "        vertical-align: middle;\n",
              "    }\n",
              "\n",
              "    .dataframe tbody tr th {\n",
              "        vertical-align: top;\n",
              "    }\n",
              "\n",
              "    .dataframe thead th {\n",
              "        text-align: right;\n",
              "    }\n",
              "</style>\n",
              "<table border=\"1\" class=\"dataframe\">\n",
              "  <thead>\n",
              "    <tr style=\"text-align: right;\">\n",
              "      <th></th>\n",
              "      <th>id</th>\n",
              "      <th>season</th>\n",
              "      <th>year</th>\n",
              "      <th>name</th>\n",
              "      <th>full_name</th>\n",
              "      <th>status</th>\n",
              "      <th>category</th>\n",
              "      <th>prize</th>\n",
              "      <th>country</th>\n",
              "    </tr>\n",
              "  </thead>\n",
              "  <tbody>\n",
              "    <tr>\n",
              "      <th>0</th>\n",
              "      <td>753</td>\n",
              "      <td>1982-1983</td>\n",
              "      <td>1982</td>\n",
              "      <td>UK Championship</td>\n",
              "      <td>1982 UK Championship</td>\n",
              "      <td>Professional</td>\n",
              "      <td>Non-ranking</td>\n",
              "      <td>47000.0</td>\n",
              "      <td>England</td>\n",
              "    </tr>\n",
              "    <tr>\n",
              "      <th>2</th>\n",
              "      <td>762</td>\n",
              "      <td>1982-1983</td>\n",
              "      <td>1982</td>\n",
              "      <td>Professional Players Tournament</td>\n",
              "      <td>1982 Professional Players Tournament</td>\n",
              "      <td>Professional</td>\n",
              "      <td>Ranking</td>\n",
              "      <td>31500.0</td>\n",
              "      <td>England</td>\n",
              "    </tr>\n",
              "    <tr>\n",
              "      <th>4</th>\n",
              "      <td>754</td>\n",
              "      <td>1982-1983</td>\n",
              "      <td>1982</td>\n",
              "      <td>International Open</td>\n",
              "      <td>1982 International Open</td>\n",
              "      <td>Professional</td>\n",
              "      <td>Ranking</td>\n",
              "      <td>73500.0</td>\n",
              "      <td>England</td>\n",
              "    </tr>\n",
              "    <tr>\n",
              "      <th>5</th>\n",
              "      <td>759</td>\n",
              "      <td>1982-1983</td>\n",
              "      <td>1982</td>\n",
              "      <td>Scottish Masters</td>\n",
              "      <td>1982 Scottish Masters</td>\n",
              "      <td>Professional</td>\n",
              "      <td>Invitational</td>\n",
              "      <td>23000.0</td>\n",
              "      <td>Scotland</td>\n",
              "    </tr>\n",
              "    <tr>\n",
              "      <th>10</th>\n",
              "      <td>795</td>\n",
              "      <td>1982-1983</td>\n",
              "      <td>1982</td>\n",
              "      <td>Australian Masters</td>\n",
              "      <td>1982 Australian Masters</td>\n",
              "      <td>Professional</td>\n",
              "      <td>Invitational</td>\n",
              "      <td>18568.0</td>\n",
              "      <td>Australia</td>\n",
              "    </tr>\n",
              "  </tbody>\n",
              "</table>\n",
              "</div>"
            ],
            "text/plain": [
              "     id     season  year                             name  \\\n",
              "0   753  1982-1983  1982                  UK Championship   \n",
              "2   762  1982-1983  1982  Professional Players Tournament   \n",
              "4   754  1982-1983  1982               International Open   \n",
              "5   759  1982-1983  1982                 Scottish Masters   \n",
              "10  795  1982-1983  1982               Australian Masters   \n",
              "\n",
              "                               full_name        status      category    prize  \\\n",
              "0                   1982 UK Championship  Professional   Non-ranking  47000.0   \n",
              "2   1982 Professional Players Tournament  Professional       Ranking  31500.0   \n",
              "4                1982 International Open  Professional       Ranking  73500.0   \n",
              "5                  1982 Scottish Masters  Professional  Invitational  23000.0   \n",
              "10               1982 Australian Masters  Professional  Invitational  18568.0   \n",
              "\n",
              "      country  \n",
              "0     England  \n",
              "2     England  \n",
              "4     England  \n",
              "5    Scotland  \n",
              "10  Australia  "
            ]
          },
          "execution_count": 7,
          "metadata": {},
          "output_type": "execute_result"
        }
      ],
      "source": [
        "# Filter tournaments to professional\n",
        "df_tournaments_professional = df_tournaments[df_tournaments['status'] == 'Professional']\n",
        "\n",
        "# Display the DataFrame\n",
        "df_tournaments_professional.head()"
      ]
    },
    {
      "cell_type": "code",
      "execution_count": 8,
      "metadata": {},
      "outputs": [
        {
          "name": "stdout",
          "output_type": "stream",
          "text": [
            "<class 'pandas.core.frame.DataFrame'>\n",
            "RangeIndex: 916 entries, 0 to 915\n",
            "Data columns (total 4 columns):\n",
            " #   Column   Non-Null Count  Dtype \n",
            "---  ------   --------------  ----- \n",
            " 0   season   916 non-null    object\n",
            " 1   country  916 non-null    object\n",
            " 2   name     916 non-null    object\n",
            " 3   count    916 non-null    int64 \n",
            "dtypes: int64(1), object(3)\n",
            "memory usage: 28.8+ KB\n"
          ]
        }
      ],
      "source": [
        "# Group by season, country, and tournament name\n",
        "df_tournaments_professional.groupby(['season', 'country', 'name']).size().reset_index(name='count').info()"
      ]
    },
    {
      "cell_type": "code",
      "execution_count": 9,
      "metadata": {},
      "outputs": [
        {
          "data": {
            "text/html": [
              "<div>\n",
              "<style scoped>\n",
              "    .dataframe tbody tr th:only-of-type {\n",
              "        vertical-align: middle;\n",
              "    }\n",
              "\n",
              "    .dataframe tbody tr th {\n",
              "        vertical-align: top;\n",
              "    }\n",
              "\n",
              "    .dataframe thead th {\n",
              "        text-align: right;\n",
              "    }\n",
              "</style>\n",
              "<table border=\"1\" class=\"dataframe\">\n",
              "  <thead>\n",
              "    <tr style=\"text-align: right;\">\n",
              "      <th></th>\n",
              "      <th>season</th>\n",
              "      <th>count</th>\n",
              "    </tr>\n",
              "  </thead>\n",
              "  <tbody>\n",
              "    <tr>\n",
              "      <th>0</th>\n",
              "      <td>1981-1982</td>\n",
              "      <td>13</td>\n",
              "    </tr>\n",
              "    <tr>\n",
              "      <th>1</th>\n",
              "      <td>1982-1983</td>\n",
              "      <td>16</td>\n",
              "    </tr>\n",
              "    <tr>\n",
              "      <th>2</th>\n",
              "      <td>1983-1984</td>\n",
              "      <td>19</td>\n",
              "    </tr>\n",
              "    <tr>\n",
              "      <th>3</th>\n",
              "      <td>1984-1985</td>\n",
              "      <td>24</td>\n",
              "    </tr>\n",
              "    <tr>\n",
              "      <th>4</th>\n",
              "      <td>1985-1986</td>\n",
              "      <td>31</td>\n",
              "    </tr>\n",
              "    <tr>\n",
              "      <th>5</th>\n",
              "      <td>1986-1987</td>\n",
              "      <td>31</td>\n",
              "    </tr>\n",
              "    <tr>\n",
              "      <th>6</th>\n",
              "      <td>1987-1988</td>\n",
              "      <td>27</td>\n",
              "    </tr>\n",
              "    <tr>\n",
              "      <th>7</th>\n",
              "      <td>1988-1989</td>\n",
              "      <td>32</td>\n",
              "    </tr>\n",
              "    <tr>\n",
              "      <th>8</th>\n",
              "      <td>1989-1990</td>\n",
              "      <td>27</td>\n",
              "    </tr>\n",
              "    <tr>\n",
              "      <th>9</th>\n",
              "      <td>1990-1991</td>\n",
              "      <td>21</td>\n",
              "    </tr>\n",
              "  </tbody>\n",
              "</table>\n",
              "</div>"
            ],
            "text/plain": [
              "      season  count\n",
              "0  1981-1982     13\n",
              "1  1982-1983     16\n",
              "2  1983-1984     19\n",
              "3  1984-1985     24\n",
              "4  1985-1986     31\n",
              "5  1986-1987     31\n",
              "6  1987-1988     27\n",
              "7  1988-1989     32\n",
              "8  1989-1990     27\n",
              "9  1990-1991     21"
            ]
          },
          "execution_count": 9,
          "metadata": {},
          "output_type": "execute_result"
        }
      ],
      "source": [
        "# Sort df_tournaments_professional by season\n",
        "df_tournaments_professional_by_season = df_tournaments_professional.sort_values(by='season')\n",
        "\n",
        "# Group professional tournaments by season\n",
        "df_tournaments_professional_by_season_count = df_tournaments_professional_by_season.groupby(['season']).size().reset_index(name='count')\n",
        "\n",
        "df_tournaments_professional_by_season_count.head(10)"
      ]
    },
    {
      "cell_type": "markdown",
      "metadata": {},
      "source": [
        "---\n",
        "\n",
        "# Section 1 - Tournaments held in the UK vs the Rest of the World\n",
        "\n",
        "---"
      ]
    },
    {
      "cell_type": "markdown",
      "metadata": {},
      "source": [
        "## Plot 1 - Number of Professional Tournaments by Season (Matplotlib)\n",
        "\n",
        "The plot below shows the evolution of the number of professional tournaments."
      ]
    },
    {
      "cell_type": "code",
      "execution_count": 10,
      "metadata": {},
      "outputs": [
        {
          "data": {
            "image/png": "[encoded data removed]",
            "text/plain": [
              "<Figure size 1200x600 with 1 Axes>"
            ]
          },
          "metadata": {},
          "output_type": "display_data"
        }
      ],
      "source": [
        "# Plot number of professional tournaments by season\n",
        "plt.figure(figsize=(12,6))\n",
        "plt.title('Number of Professional Tournaments by Season')\n",
        "plt.xlabel('Season')\n",
        "plt.ylabel('Number of Tournaments')\n",
        "plt.xticks(rotation=45, ha='right')\n",
        "plt.plot(df_tournaments_professional_by_season_count['season'], df_tournaments_professional_by_season_count['count'], marker='o')\n",
        "plt.show()"
      ]
    },
    {
      "cell_type": "markdown",
      "metadata": {},
      "source": [
        "**As we can see from the line graph the number of professional tournaments have changed quite dramatically over the years.**\n",
        "\n",
        "**Some insights we can gain from this graph are:**\n",
        "\n",
        "### 1.Rapid Growth in the 1980s\n",
        "* The sport saw a sharp rise in the 1980s, peaking at just over 30 tournaments in the 1985-1986 and 1986-1987 season\n",
        "* This could reflect snooker's boom in popularity after the introduction of colour TV and BBC coverage of Pot Black and Triple Crown Events.\n",
        "\n",
        "### 2. Fluctuations in the 1990s\n",
        "* After the peak in the late 80s, there's a clear decline through the early to mid 90s\n",
        "\n",
        "### 3. Low Point in the Mid 2000s\n",
        "* Around 2005-2006 the number of tournaments dipped to lowest level since the 1980s\n",
        "* This period is often associated with administrative issues in snooker and the lack of global expansion efforts.\n",
        "\n",
        "### 4. Resurgence in the 2010s\n",
        "* A strong growth phase starting from the 2004-2005 season, peaking at 35 tournaments around 2014-2015\n",
        "* During this period Barry Hearn's leadership of World Snooker saw the expansion of the professional tour introducing more ranking events and overseas tournaments.\n",
        "\n",
        "### 5. Stabilisation and Possible Decline\n",
        "* After the peak in mid 2010s, tournament numbers settle into the mid 20s\n",
        "* the drop in tournaments in the 2019-2020 season is likely due to the COVID-19 pandemic disrupting the calendar\n",
        "\n",
        "---"
      ]
    },
    {
      "cell_type": "markdown",
      "metadata": {},
      "source": [
        "# Plot 2 - Comparison of UK and Rest of World Tournaments (1982-2020)\n",
        "## Pie Chart (Matplotlib)\n",
        "\n",
        "The plot below shows the distibution between tournaments held in the UK vs outside of the UK from 1982 - 2020"
      ]
    },
    {
      "cell_type": "markdown",
      "metadata": {},
      "source": [
        "First we need to group the tournaments into UK or Rest of World, we then count how many of each were held by season"
      ]
    },
    {
      "cell_type": "code",
      "execution_count": 11,
      "metadata": {},
      "outputs": [
        {
          "data": {
            "text/html": [
              "<div>\n",
              "<style scoped>\n",
              "    .dataframe tbody tr th:only-of-type {\n",
              "        vertical-align: middle;\n",
              "    }\n",
              "\n",
              "    .dataframe tbody tr th {\n",
              "        vertical-align: top;\n",
              "    }\n",
              "\n",
              "    .dataframe thead th {\n",
              "        text-align: right;\n",
              "    }\n",
              "</style>\n",
              "<table border=\"1\" class=\"dataframe\">\n",
              "  <thead>\n",
              "    <tr style=\"text-align: right;\">\n",
              "      <th></th>\n",
              "      <th>season</th>\n",
              "      <th>country</th>\n",
              "      <th>count</th>\n",
              "    </tr>\n",
              "  </thead>\n",
              "  <tbody>\n",
              "    <tr>\n",
              "      <th>0</th>\n",
              "      <td>1981-1982</td>\n",
              "      <td>UK</td>\n",
              "      <td>13</td>\n",
              "    </tr>\n",
              "    <tr>\n",
              "      <th>1</th>\n",
              "      <td>1982-1983</td>\n",
              "      <td>Rest of World</td>\n",
              "      <td>1</td>\n",
              "    </tr>\n",
              "    <tr>\n",
              "      <th>2</th>\n",
              "      <td>1982-1983</td>\n",
              "      <td>UK</td>\n",
              "      <td>15</td>\n",
              "    </tr>\n",
              "    <tr>\n",
              "      <th>3</th>\n",
              "      <td>1983-1984</td>\n",
              "      <td>Rest of World</td>\n",
              "      <td>4</td>\n",
              "    </tr>\n",
              "    <tr>\n",
              "      <th>4</th>\n",
              "      <td>1983-1984</td>\n",
              "      <td>UK</td>\n",
              "      <td>15</td>\n",
              "    </tr>\n",
              "    <tr>\n",
              "      <th>5</th>\n",
              "      <td>1984-1985</td>\n",
              "      <td>Rest of World</td>\n",
              "      <td>9</td>\n",
              "    </tr>\n",
              "  </tbody>\n",
              "</table>\n",
              "</div>"
            ],
            "text/plain": [
              "      season        country  count\n",
              "0  1981-1982             UK     13\n",
              "1  1982-1983  Rest of World      1\n",
              "2  1982-1983             UK     15\n",
              "3  1983-1984  Rest of World      4\n",
              "4  1983-1984             UK     15\n",
              "5  1984-1985  Rest of World      9"
            ]
          },
          "execution_count": 11,
          "metadata": {},
          "output_type": "execute_result"
        }
      ],
      "source": [
        "# Get the count of UK tournaments and Rest of World tournaments\n",
        "df_tournaments_professional_by_season['country'] = df_tournaments_professional_by_season['country'].apply(lambda x: 'UK' if x in UK_countries else 'Rest of World')\n",
        "df_tournaments_professional_by_season_country = df_tournaments_professional_by_season.groupby(['season', 'country']).size().reset_index(name='count')\n",
        "\n",
        "df_tournaments_professional_by_season_country.head(6)"
      ]
    },
    {
      "cell_type": "markdown",
      "metadata": {},
      "source": [
        "The following code then sums the total number of tournaments held in the UK and Rest of World across all seasons."
      ]
    },
    {
      "cell_type": "code",
      "execution_count": 12,
      "metadata": {},
      "outputs": [
        {
          "data": {
            "text/html": [
              "<div>\n",
              "<style scoped>\n",
              "    .dataframe tbody tr th:only-of-type {\n",
              "        vertical-align: middle;\n",
              "    }\n",
              "\n",
              "    .dataframe tbody tr th {\n",
              "        vertical-align: top;\n",
              "    }\n",
              "\n",
              "    .dataframe thead th {\n",
              "        text-align: right;\n",
              "    }\n",
              "</style>\n",
              "<table border=\"1\" class=\"dataframe\">\n",
              "  <thead>\n",
              "    <tr style=\"text-align: right;\">\n",
              "      <th></th>\n",
              "      <th>country</th>\n",
              "      <th>total_tournaments</th>\n",
              "    </tr>\n",
              "  </thead>\n",
              "  <tbody>\n",
              "    <tr>\n",
              "      <th>0</th>\n",
              "      <td>Rest of World</td>\n",
              "      <td>278</td>\n",
              "    </tr>\n",
              "    <tr>\n",
              "      <th>1</th>\n",
              "      <td>UK</td>\n",
              "      <td>641</td>\n",
              "    </tr>\n",
              "  </tbody>\n",
              "</table>\n",
              "</div>"
            ],
            "text/plain": [
              "         country  total_tournaments\n",
              "0  Rest of World                278\n",
              "1             UK                641"
            ]
          },
          "execution_count": 12,
          "metadata": {},
          "output_type": "execute_result"
        }
      ],
      "source": [
        "tournament_totals = (\n",
        "    df_tournaments_professional_by_season_country\n",
        "    .assign(count=pd.to_numeric(df_tournaments_professional_by_season_country[\"count\"], errors=\"coerce\").fillna(0))\n",
        "    .groupby(\"country\", as_index=False)[\"count\"].sum()\n",
        "    .rename(columns={\"count\": \"total_tournaments\"})\n",
        ")\n",
        "\n",
        "tournament_totals"
      ]
    },
    {
      "cell_type": "code",
      "execution_count": 13,
      "metadata": {},
      "outputs": [
        {
          "data": {
            "image/png": "[encoded data removed]",
            "text/plain": [
              "<Figure size 640x480 with 1 Axes>"
            ]
          },
          "metadata": {},
          "output_type": "display_data"
        }
      ],
      "source": [
        "# Plot all time tournaments UK vs Rest of the World\n",
        "fig, ax = plt.subplots()\n",
        "ax.pie(tournament_totals['total_tournaments'], labels=tournament_totals['country'], autopct='%1.1f%%', shadow=True, startangle=90)\n",
        "plt.title(\"Comparison of UK and Rest of World Tournaments (1982-2020)\")\n",
        "plt.show()"
      ]
    },
    {
      "cell_type": "markdown",
      "metadata": {},
      "source": [
        "### From the pie chart we can gather some interesting insights\n",
        "\n",
        "1. **UK Dominance in Hosting**\n",
        "* 69.7% of tournaments in this period were hosted in the UK.\n",
        "* This reflects snooker’s historical roots as a UK-centric sport, with the majority of events concentrated in Britain for decades.\n",
        "\n",
        "2. **Limited International Spread**\n",
        "* Only 30.3% of tournaments were held outside the UK.\n",
        "* Considering that this is a nearly 40-year span, it suggests that meaningful global expansion has been relatively slow or happened in recent years.\n",
        "\n",
        "3. **Potential Shift in Later Years**\n",
        "* Relating this pie chart to the tournaments line chart, it is likely that international tournaments increased in later years as the number of tournaments grew significantly in the 2010s\n",
        "* This is something we will look at in our next chart"
      ]
    },
    {
      "cell_type": "markdown",
      "metadata": {},
      "source": [
        "---\n",
        "\n",
        "# Plot 3 - Professional Tournaments by Season (UK vs Rest of World)\n",
        "\n",
        "The plot below shows the comparison of UK held tournaments vs the International tournaments"
      ]
    },
    {
      "cell_type": "code",
      "execution_count": 18,
      "metadata": {},
      "outputs": [
        {
          "data": {
            "image/png": "[encoded data removed]",
            "text/plain": [
              "<Figure size 1000x500 with 1 Axes>"
            ]
          },
          "metadata": {},
          "output_type": "display_data"
        }
      ],
      "source": [
        "# Plot number of tournaments by season (UK vs Rest of World)\n",
        "plt.figure(figsize=(10, 5))\n",
        "sns.histplot(\n",
        "    data=df_tournaments_professional_by_season_country, x=\"season\", weights=\"count\", hue=\"country\", kde=True\n",
        ")\n",
        "plt.title(\"Professional Tournaments by Season (UK vs Rest of World)\")\n",
        "plt.xlabel(\"Season\")\n",
        "plt.ylabel(\"Number of Tournaments\")\n",
        "plt.xticks(rotation=45, ha=\"right\")\n",
        "plt.tight_layout()\n",
        "plt.show()"
      ]
    },
    {
      "cell_type": "markdown",
      "metadata": {},
      "source": [
        "Some interesting insights we can gain from this are:\n",
        "\n",
        "1. **UK dominance**\n",
        "* The dominance of UK tournaments across the entire period is clear to see. In almost every season, the UK hosts more than double the number of tournaments compared to the Rest of the World\n",
        "\n",
        "2. **1980s to early 1990s**\n",
        "* The UK enjoyed a golden era, peaking at over 20 events per season, while Rest of World tournaments rarely exceeded 6.\n",
        "\n",
        "3. **Mid-1990s to early 2000s:**\n",
        "* UK tournament numbers fell noticeably, but the Rest of World did not fill that gap — the gap remained large.\n",
        "\n",
        "4. **2010s expansion**\n",
        "* Since the 2009-2010 season International tournaments have seen their most significant growth, even surpassing UK held tournaments in the 2013-2014 and 2014-2015 season.\n",
        "* The trend still shows that UK tournaments are still dominant however there is a clear growth in the sport globally"
      ]
    },
    {
      "cell_type": "markdown",
      "metadata": {},
      "source": [
        "---\n",
        "\n",
        "## Section 1 - Conclusion\n",
        "The UK is clearly the dominant figure in terms of hosting tournaments but there has always been international tournaments held in some capacity and that number has increased significantly since the 2010s.\n",
        "\n",
        "We are going to look at some potential reasons behind the growth of the sport internationally in the upcoming sections.\n"
      ]
    },
    {
      "cell_type": "markdown",
      "metadata": {
        "id": "uFQo3ycuO-v6"
      },
      "source": [
        "---\n",
        "# Section 2 - International Players vs UK Players\n",
        "---"
      ]
    },
    {
      "cell_type": "markdown",
      "metadata": {},
      "source": [
        "## Plot 1 - Number of International Match Ups per season\n",
        "\n",
        "**Definition / Clarification** - I am defining an international match as a match that contains 1 or more players outside of the UK"
      ]
    },
    {
      "cell_type": "code",
      "execution_count": 15,
      "metadata": {},
      "outputs": [
        {
          "data": {
            "text/html": [
              "<div>\n",
              "<style scoped>\n",
              "    .dataframe tbody tr th:only-of-type {\n",
              "        vertical-align: middle;\n",
              "    }\n",
              "\n",
              "    .dataframe tbody tr th {\n",
              "        vertical-align: top;\n",
              "    }\n",
              "\n",
              "    .dataframe thead th {\n",
              "        text-align: right;\n",
              "    }\n",
              "</style>\n",
              "<table border=\"1\" class=\"dataframe\">\n",
              "  <thead>\n",
              "    <tr style=\"text-align: right;\">\n",
              "      <th></th>\n",
              "      <th>season</th>\n",
              "      <th>is_international_match</th>\n",
              "      <th>count</th>\n",
              "    </tr>\n",
              "  </thead>\n",
              "  <tbody>\n",
              "    <tr>\n",
              "      <th>0</th>\n",
              "      <td>1981-1982</td>\n",
              "      <td>False</td>\n",
              "      <td>223</td>\n",
              "    </tr>\n",
              "    <tr>\n",
              "      <th>1</th>\n",
              "      <td>1981-1982</td>\n",
              "      <td>True</td>\n",
              "      <td>51</td>\n",
              "    </tr>\n",
              "    <tr>\n",
              "      <th>2</th>\n",
              "      <td>1982-1983</td>\n",
              "      <td>False</td>\n",
              "      <td>358</td>\n",
              "    </tr>\n",
              "    <tr>\n",
              "      <th>3</th>\n",
              "      <td>1982-1983</td>\n",
              "      <td>True</td>\n",
              "      <td>120</td>\n",
              "    </tr>\n",
              "    <tr>\n",
              "      <th>4</th>\n",
              "      <td>1983-1984</td>\n",
              "      <td>False</td>\n",
              "      <td>398</td>\n",
              "    </tr>\n",
              "    <tr>\n",
              "      <th>...</th>\n",
              "      <td>...</td>\n",
              "      <td>...</td>\n",
              "      <td>...</td>\n",
              "    </tr>\n",
              "    <tr>\n",
              "      <th>73</th>\n",
              "      <td>2017-2018</td>\n",
              "      <td>True</td>\n",
              "      <td>1605</td>\n",
              "    </tr>\n",
              "    <tr>\n",
              "      <th>74</th>\n",
              "      <td>2018-2019</td>\n",
              "      <td>False</td>\n",
              "      <td>1609</td>\n",
              "    </tr>\n",
              "    <tr>\n",
              "      <th>75</th>\n",
              "      <td>2018-2019</td>\n",
              "      <td>True</td>\n",
              "      <td>1668</td>\n",
              "    </tr>\n",
              "    <tr>\n",
              "      <th>76</th>\n",
              "      <td>2019-2020</td>\n",
              "      <td>False</td>\n",
              "      <td>863</td>\n",
              "    </tr>\n",
              "    <tr>\n",
              "      <th>77</th>\n",
              "      <td>2019-2020</td>\n",
              "      <td>True</td>\n",
              "      <td>1009</td>\n",
              "    </tr>\n",
              "  </tbody>\n",
              "</table>\n",
              "<p>78 rows × 3 columns</p>\n",
              "</div>"
            ],
            "text/plain": [
              "       season  is_international_match  count\n",
              "0   1981-1982                   False    223\n",
              "1   1981-1982                    True     51\n",
              "2   1982-1983                   False    358\n",
              "3   1982-1983                    True    120\n",
              "4   1983-1984                   False    398\n",
              "..        ...                     ...    ...\n",
              "73  2017-2018                    True   1605\n",
              "74  2018-2019                   False   1609\n",
              "75  2018-2019                    True   1668\n",
              "76  2019-2020                   False    863\n",
              "77  2019-2020                    True   1009\n",
              "\n",
              "[78 rows x 3 columns]"
            ]
          },
          "execution_count": 15,
          "metadata": {},
          "output_type": "execute_result"
        }
      ],
      "source": [
        "# Group matches by season and count international match by not international match\n",
        "df_master_grouped = df_master.groupby(['season', 'is_international_match']).size().reset_index(name='count')\n",
        "\n",
        "df_master_grouped"
      ]
    },
    {
      "cell_type": "code",
      "execution_count": 16,
      "metadata": {},
      "outputs": [
        {
          "data": {
            "application/vnd.plotly.v1+json": {
              "config": {
                "plotlyServerURL": "https://plot.ly"
              },
              "data": [
                {
                  "hovertemplate": "is_international_match=UK<br>season=%{x}<br>count=%{y}<extra></extra>",
                  "legendgroup": "UK",
                  "line": {
                    "color": "#636efa",
                    "dash": "solid"
                  },
                  "marker": {
                    "symbol": "circle"
                  },
                  "mode": "lines+markers",
                  "name": "UK",
                  "orientation": "v",
                  "showlegend": true,
                  "type": "scatter",
                  "x": [
                    "1981-1982",
                    "1982-1983",
                    "1983-1984",
                    "1984-1985",
                    "1985-1986",
                    "1986-1987",
                    "1987-1988",
                    "1988-1989",
                    "1989-1990",
                    "1990-1991",
                    "1991-1992",
                    "1992-1993",
                    "1993-1994",
                    "1994-1995",
                    "1995-1996",
                    "1996-1997",
                    "1997-1998",
                    "1998-1999",
                    "1999-2000",
                    "2000-2001",
                    "2001-2002",
                    "2002-2003",
                    "2003-2004",
                    "2004-2005",
                    "2005-2006",
                    "2006-2007",
                    "2007-2008",
                    "2008-2009",
                    "2009-2010",
                    "2010-2011",
                    "2011-2012",
                    "2012-2013",
                    "2013-2014",
                    "2014-2015",
                    "2015-2016",
                    "2016-2017",
                    "2017-2018",
                    "2018-2019",
                    "2019-2020"
                  ],
                  "xaxis": "x",
                  "y": [
                    223,
                    358,
                    398,
                    483,
                    859,
                    667,
                    713,
                    1050,
                    1167,
                    963,
                    4173,
                    5250,
                    4432,
                    3974,
                    3929,
                    3755,
                    2599,
                    1779,
                    1544,
                    1479,
                    1877,
                    1631,
                    1380,
                    1153,
                    1184,
                    1437,
                    1819,
                    1568,
                    1470,
                    1918,
                    2454,
                    2114,
                    2335,
                    1969,
                    1902,
                    1713,
                    1702,
                    1609,
                    863
                  ],
                  "yaxis": "y"
                },
                {
                  "hovertemplate": "is_international_match=International<br>season=%{x}<br>count=%{y}<extra></extra>",
                  "legendgroup": "International",
                  "line": {
                    "color": "#EF553B",
                    "dash": "solid"
                  },
                  "marker": {
                    "symbol": "circle"
                  },
                  "mode": "lines+markers",
                  "name": "International",
                  "orientation": "v",
                  "showlegend": true,
                  "type": "scatter",
                  "x": [
                    "1981-1982",
                    "1982-1983",
                    "1983-1984",
                    "1984-1985",
                    "1985-1986",
                    "1986-1987",
                    "1987-1988",
                    "1988-1989",
                    "1989-1990",
                    "1990-1991",
                    "1991-1992",
                    "1992-1993",
                    "1993-1994",
                    "1994-1995",
                    "1995-1996",
                    "1996-1997",
                    "1997-1998",
                    "1998-1999",
                    "1999-2000",
                    "2000-2001",
                    "2001-2002",
                    "2002-2003",
                    "2003-2004",
                    "2004-2005",
                    "2005-2006",
                    "2006-2007",
                    "2007-2008",
                    "2008-2009",
                    "2009-2010",
                    "2010-2011",
                    "2011-2012",
                    "2012-2013",
                    "2013-2014",
                    "2014-2015",
                    "2015-2016",
                    "2016-2017",
                    "2017-2018",
                    "2018-2019",
                    "2019-2020"
                  ],
                  "xaxis": "x",
                  "y": [
                    51,
                    120,
                    223,
                    307,
                    402,
                    387,
                    364,
                    516,
                    508,
                    525,
                    1018,
                    1110,
                    1002,
                    1044,
                    897,
                    786,
                    373,
                    653,
                    316,
                    400,
                    467,
                    404,
                    477,
                    376,
                    317,
                    509,
                    503,
                    718,
                    751,
                    1148,
                    1402,
                    1735,
                    2104,
                    1747,
                    1521,
                    1458,
                    1605,
                    1668,
                    1009
                  ],
                  "yaxis": "y"
                }
              ],
              "layout": {
                "legend": {
                  "title": {
                    "text": "Match Type"
                  },
                  "tracegroupgap": 0
                },
                "template": {
                  "data": {
                    "bar": [
                      {
                        "error_x": {
                          "color": "#2a3f5f"
                        },
                        "error_y": {
                          "color": "#2a3f5f"
                        },
                        "marker": {
                          "line": {
                            "color": "white",
                            "width": 0.5
                          },
                          "pattern": {
                            "fillmode": "overlay",
                            "size": 10,
                            "solidity": 0.2
                          }
                        },
                        "type": "bar"
                      }
                    ],
                    "barpolar": [
                      {
                        "marker": {
                          "line": {
                            "color": "white",
                            "width": 0.5
                          },
                          "pattern": {
                            "fillmode": "overlay",
                            "size": 10,
                            "solidity": 0.2
                          }
                        },
                        "type": "barpolar"
                      }
                    ],
                    "carpet": [
                      {
                        "aaxis": {
                          "endlinecolor": "#2a3f5f",
                          "gridcolor": "#C8D4E3",
                          "linecolor": "#C8D4E3",
                          "minorgridcolor": "#C8D4E3",
                          "startlinecolor": "#2a3f5f"
                        },
                        "baxis": {
                          "endlinecolor": "#2a3f5f",
                          "gridcolor": "#C8D4E3",
                          "linecolor": "#C8D4E3",
                          "minorgridcolor": "#C8D4E3",
                          "startlinecolor": "#2a3f5f"
                        },
                        "type": "carpet"
                      }
                    ],
                    "choropleth": [
                      {
                        "colorbar": {
                          "outlinewidth": 0,
                          "ticks": ""
                        },
                        "type": "choropleth"
                      }
                    ],
                    "contour": [
                      {
                        "colorbar": {
                          "outlinewidth": 0,
                          "ticks": ""
                        },
                        "colorscale": [
                          [
                            0,
                            "#0d0887"
                          ],
                          [
                            0.1111111111111111,
                            "#46039f"
                          ],
                          [
                            0.2222222222222222,
                            "#7201a8"
                          ],
                          [
                            0.3333333333333333,
                            "#9c179e"
                          ],
                          [
                            0.4444444444444444,
                            "#bd3786"
                          ],
                          [
                            0.5555555555555556,
                            "#d8576b"
                          ],
                          [
                            0.6666666666666666,
                            "#ed7953"
                          ],
                          [
                            0.7777777777777778,
                            "#fb9f3a"
                          ],
                          [
                            0.8888888888888888,
                            "#fdca26"
                          ],
                          [
                            1,
                            "#f0f921"
                          ]
                        ],
                        "type": "contour"
                      }
                    ],
                    "contourcarpet": [
                      {
                        "colorbar": {
                          "outlinewidth": 0,
                          "ticks": ""
                        },
                        "type": "contourcarpet"
                      }
                    ],
                    "heatmap": [
                      {
                        "colorbar": {
                          "outlinewidth": 0,
                          "ticks": ""
                        },
                        "colorscale": [
                          [
                            0,
                            "#0d0887"
                          ],
                          [
                            0.1111111111111111,
                            "#46039f"
                          ],
                          [
                            0.2222222222222222,
                            "#7201a8"
                          ],
                          [
                            0.3333333333333333,
                            "#9c179e"
                          ],
                          [
                            0.4444444444444444,
                            "#bd3786"
                          ],
                          [
                            0.5555555555555556,
                            "#d8576b"
                          ],
                          [
                            0.6666666666666666,
                            "#ed7953"
                          ],
                          [
                            0.7777777777777778,
                            "#fb9f3a"
                          ],
                          [
                            0.8888888888888888,
                            "#fdca26"
                          ],
                          [
                            1,
                            "#f0f921"
                          ]
                        ],
                        "type": "heatmap"
                      }
                    ],
                    "heatmapgl": [
                      {
                        "colorbar": {
                          "outlinewidth": 0,
                          "ticks": ""
                        },
                        "colorscale": [
                          [
                            0,
                            "#0d0887"
                          ],
                          [
                            0.1111111111111111,
                            "#46039f"
                          ],
                          [
                            0.2222222222222222,
                            "#7201a8"
                          ],
                          [
                            0.3333333333333333,
                            "#9c179e"
                          ],
                          [
                            0.4444444444444444,
                            "#bd3786"
                          ],
                          [
                            0.5555555555555556,
                            "#d8576b"
                          ],
                          [
                            0.6666666666666666,
                            "#ed7953"
                          ],
                          [
                            0.7777777777777778,
                            "#fb9f3a"
                          ],
                          [
                            0.8888888888888888,
                            "#fdca26"
                          ],
                          [
                            1,
                            "#f0f921"
                          ]
                        ],
                        "type": "heatmapgl"
                      }
                    ],
                    "histogram": [
                      {
                        "marker": {
                          "pattern": {
                            "fillmode": "overlay",
                            "size": 10,
                            "solidity": 0.2
                          }
                        },
                        "type": "histogram"
                      }
                    ],
                    "histogram2d": [
                      {
                        "colorbar": {
                          "outlinewidth": 0,
                          "ticks": ""
                        },
                        "colorscale": [
                          [
                            0,
                            "#0d0887"
                          ],
                          [
                            0.1111111111111111,
                            "#46039f"
                          ],
                          [
                            0.2222222222222222,
                            "#7201a8"
                          ],
                          [
                            0.3333333333333333,
                            "#9c179e"
                          ],
                          [
                            0.4444444444444444,
                            "#bd3786"
                          ],
                          [
                            0.5555555555555556,
                            "#d8576b"
                          ],
                          [
                            0.6666666666666666,
                            "#ed7953"
                          ],
                          [
                            0.7777777777777778,
                            "#fb9f3a"
                          ],
                          [
                            0.8888888888888888,
                            "#fdca26"
                          ],
                          [
                            1,
                            "#f0f921"
                          ]
                        ],
                        "type": "histogram2d"
                      }
                    ],
                    "histogram2dcontour": [
                      {
                        "colorbar": {
                          "outlinewidth": 0,
                          "ticks": ""
                        },
                        "colorscale": [
                          [
                            0,
                            "#0d0887"
                          ],
                          [
                            0.1111111111111111,
                            "#46039f"
                          ],
                          [
                            0.2222222222222222,
                            "#7201a8"
                          ],
                          [
                            0.3333333333333333,
                            "#9c179e"
                          ],
                          [
                            0.4444444444444444,
                            "#bd3786"
                          ],
                          [
                            0.5555555555555556,
                            "#d8576b"
                          ],
                          [
                            0.6666666666666666,
                            "#ed7953"
                          ],
                          [
                            0.7777777777777778,
                            "#fb9f3a"
                          ],
                          [
                            0.8888888888888888,
                            "#fdca26"
                          ],
                          [
                            1,
                            "#f0f921"
                          ]
                        ],
                        "type": "histogram2dcontour"
                      }
                    ],
                    "mesh3d": [
                      {
                        "colorbar": {
                          "outlinewidth": 0,
                          "ticks": ""
                        },
                        "type": "mesh3d"
                      }
                    ],
                    "parcoords": [
                      {
                        "line": {
                          "colorbar": {
                            "outlinewidth": 0,
                            "ticks": ""
                          }
                        },
                        "type": "parcoords"
                      }
                    ],
                    "pie": [
                      {
                        "automargin": true,
                        "type": "pie"
                      }
                    ],
                    "scatter": [
                      {
                        "fillpattern": {
                          "fillmode": "overlay",
                          "size": 10,
                          "solidity": 0.2
                        },
                        "type": "scatter"
                      }
                    ],
                    "scatter3d": [
                      {
                        "line": {
                          "colorbar": {
                            "outlinewidth": 0,
                            "ticks": ""
                          }
                        },
                        "marker": {
                          "colorbar": {
                            "outlinewidth": 0,
                            "ticks": ""
                          }
                        },
                        "type": "scatter3d"
                      }
                    ],
                    "scattercarpet": [
                      {
                        "marker": {
                          "colorbar": {
                            "outlinewidth": 0,
                            "ticks": ""
                          }
                        },
                        "type": "scattercarpet"
                      }
                    ],
                    "scattergeo": [
                      {
                        "marker": {
                          "colorbar": {
                            "outlinewidth": 0,
                            "ticks": ""
                          }
                        },
                        "type": "scattergeo"
                      }
                    ],
                    "scattergl": [
                      {
                        "marker": {
                          "colorbar": {
                            "outlinewidth": 0,
                            "ticks": ""
                          }
                        },
                        "type": "scattergl"
                      }
                    ],
                    "scattermapbox": [
                      {
                        "marker": {
                          "colorbar": {
                            "outlinewidth": 0,
                            "ticks": ""
                          }
                        },
                        "type": "scattermapbox"
                      }
                    ],
                    "scatterpolar": [
                      {
                        "marker": {
                          "colorbar": {
                            "outlinewidth": 0,
                            "ticks": ""
                          }
                        },
                        "type": "scatterpolar"
                      }
                    ],
                    "scatterpolargl": [
                      {
                        "marker": {
                          "colorbar": {
                            "outlinewidth": 0,
                            "ticks": ""
                          }
                        },
                        "type": "scatterpolargl"
                      }
                    ],
                    "scatterternary": [
                      {
                        "marker": {
                          "colorbar": {
                            "outlinewidth": 0,
                            "ticks": ""
                          }
                        },
                        "type": "scatterternary"
                      }
                    ],
                    "surface": [
                      {
                        "colorbar": {
                          "outlinewidth": 0,
                          "ticks": ""
                        },
                        "colorscale": [
                          [
                            0,
                            "#0d0887"
                          ],
                          [
                            0.1111111111111111,
                            "#46039f"
                          ],
                          [
                            0.2222222222222222,
                            "#7201a8"
                          ],
                          [
                            0.3333333333333333,
                            "#9c179e"
                          ],
                          [
                            0.4444444444444444,
                            "#bd3786"
                          ],
                          [
                            0.5555555555555556,
                            "#d8576b"
                          ],
                          [
                            0.6666666666666666,
                            "#ed7953"
                          ],
                          [
                            0.7777777777777778,
                            "#fb9f3a"
                          ],
                          [
                            0.8888888888888888,
                            "#fdca26"
                          ],
                          [
                            1,
                            "#f0f921"
                          ]
                        ],
                        "type": "surface"
                      }
                    ],
                    "table": [
                      {
                        "cells": {
                          "fill": {
                            "color": "#EBF0F8"
                          },
                          "line": {
                            "color": "white"
                          }
                        },
                        "header": {
                          "fill": {
                            "color": "#C8D4E3"
                          },
                          "line": {
                            "color": "white"
                          }
                        },
                        "type": "table"
                      }
                    ]
                  },
                  "layout": {
                    "annotationdefaults": {
                      "arrowcolor": "#2a3f5f",
                      "arrowhead": 0,
                      "arrowwidth": 1
                    },
                    "autotypenumbers": "strict",
                    "coloraxis": {
                      "colorbar": {
                        "outlinewidth": 0,
                        "ticks": ""
                      }
                    },
                    "colorscale": {
                      "diverging": [
                        [
                          0,
                          "#8e0152"
                        ],
                        [
                          0.1,
                          "#c51b7d"
                        ],
                        [
                          0.2,
                          "#de77ae"
                        ],
                        [
                          0.3,
                          "#f1b6da"
                        ],
                        [
                          0.4,
                          "#fde0ef"
                        ],
                        [
                          0.5,
                          "#f7f7f7"
                        ],
                        [
                          0.6,
                          "#e6f5d0"
                        ],
                        [
                          0.7,
                          "#b8e186"
                        ],
                        [
                          0.8,
                          "#7fbc41"
                        ],
                        [
                          0.9,
                          "#4d9221"
                        ],
                        [
                          1,
                          "#276419"
                        ]
                      ],
                      "sequential": [
                        [
                          0,
                          "#0d0887"
                        ],
                        [
                          0.1111111111111111,
                          "#46039f"
                        ],
                        [
                          0.2222222222222222,
                          "#7201a8"
                        ],
                        [
                          0.3333333333333333,
                          "#9c179e"
                        ],
                        [
                          0.4444444444444444,
                          "#bd3786"
                        ],
                        [
                          0.5555555555555556,
                          "#d8576b"
                        ],
                        [
                          0.6666666666666666,
                          "#ed7953"
                        ],
                        [
                          0.7777777777777778,
                          "#fb9f3a"
                        ],
                        [
                          0.8888888888888888,
                          "#fdca26"
                        ],
                        [
                          1,
                          "#f0f921"
                        ]
                      ],
                      "sequentialminus": [
                        [
                          0,
                          "#0d0887"
                        ],
                        [
                          0.1111111111111111,
                          "#46039f"
                        ],
                        [
                          0.2222222222222222,
                          "#7201a8"
                        ],
                        [
                          0.3333333333333333,
                          "#9c179e"
                        ],
                        [
                          0.4444444444444444,
                          "#bd3786"
                        ],
                        [
                          0.5555555555555556,
                          "#d8576b"
                        ],
                        [
                          0.6666666666666666,
                          "#ed7953"
                        ],
                        [
                          0.7777777777777778,
                          "#fb9f3a"
                        ],
                        [
                          0.8888888888888888,
                          "#fdca26"
                        ],
                        [
                          1,
                          "#f0f921"
                        ]
                      ]
                    },
                    "colorway": [
                      "#636efa",
                      "#EF553B",
                      "#00cc96",
                      "#ab63fa",
                      "#FFA15A",
                      "#19d3f3",
                      "#FF6692",
                      "#B6E880",
                      "#FF97FF",
                      "#FECB52"
                    ],
                    "font": {
                      "color": "#2a3f5f"
                    },
                    "geo": {
                      "bgcolor": "white",
                      "lakecolor": "white",
                      "landcolor": "white",
                      "showlakes": true,
                      "showland": true,
                      "subunitcolor": "#C8D4E3"
                    },
                    "hoverlabel": {
                      "align": "left"
                    },
                    "hovermode": "closest",
                    "mapbox": {
                      "style": "light"
                    },
                    "paper_bgcolor": "white",
                    "plot_bgcolor": "white",
                    "polar": {
                      "angularaxis": {
                        "gridcolor": "#EBF0F8",
                        "linecolor": "#EBF0F8",
                        "ticks": ""
                      },
                      "bgcolor": "white",
                      "radialaxis": {
                        "gridcolor": "#EBF0F8",
                        "linecolor": "#EBF0F8",
                        "ticks": ""
                      }
                    },
                    "scene": {
                      "xaxis": {
                        "backgroundcolor": "white",
                        "gridcolor": "#DFE8F3",
                        "gridwidth": 2,
                        "linecolor": "#EBF0F8",
                        "showbackground": true,
                        "ticks": "",
                        "zerolinecolor": "#EBF0F8"
                      },
                      "yaxis": {
                        "backgroundcolor": "white",
                        "gridcolor": "#DFE8F3",
                        "gridwidth": 2,
                        "linecolor": "#EBF0F8",
                        "showbackground": true,
                        "ticks": "",
                        "zerolinecolor": "#EBF0F8"
                      },
                      "zaxis": {
                        "backgroundcolor": "white",
                        "gridcolor": "#DFE8F3",
                        "gridwidth": 2,
                        "linecolor": "#EBF0F8",
                        "showbackground": true,
                        "ticks": "",
                        "zerolinecolor": "#EBF0F8"
                      }
                    },
                    "shapedefaults": {
                      "line": {
                        "color": "#2a3f5f"
                      }
                    },
                    "ternary": {
                      "aaxis": {
                        "gridcolor": "#DFE8F3",
                        "linecolor": "#A2B1C6",
                        "ticks": ""
                      },
                      "baxis": {
                        "gridcolor": "#DFE8F3",
                        "linecolor": "#A2B1C6",
                        "ticks": ""
                      },
                      "bgcolor": "white",
                      "caxis": {
                        "gridcolor": "#DFE8F3",
                        "linecolor": "#A2B1C6",
                        "ticks": ""
                      }
                    },
                    "title": {
                      "x": 0.05
                    },
                    "xaxis": {
                      "automargin": true,
                      "gridcolor": "#EBF0F8",
                      "linecolor": "#EBF0F8",
                      "ticks": "",
                      "title": {
                        "standoff": 15
                      },
                      "zerolinecolor": "#EBF0F8",
                      "zerolinewidth": 2
                    },
                    "yaxis": {
                      "automargin": true,
                      "gridcolor": "#EBF0F8",
                      "linecolor": "#EBF0F8",
                      "ticks": "",
                      "title": {
                        "standoff": 15
                      },
                      "zerolinecolor": "#EBF0F8",
                      "zerolinewidth": 2
                    }
                  }
                },
                "title": {
                  "text": "Number of Matches by Season (UK vs International)"
                },
                "xaxis": {
                  "anchor": "y",
                  "domain": [
                    0,
                    1
                  ],
                  "title": {
                    "text": "Season"
                  }
                },
                "yaxis": {
                  "anchor": "x",
                  "domain": [
                    0,
                    1
                  ],
                  "title": {
                    "text": "Number of Matches"
                  }
                }
              }
            }
          },
          "metadata": {},
          "output_type": "display_data"
        }
      ],
      "source": [
        "# Map True/False to labels\n",
        "df_master_grouped['is_international_match'] = df_master_grouped['is_international_match'].map({True: 'International', False: 'UK'})\n",
        "\n",
        "# Plot interactive line graph\n",
        "fig = px.line(df_master_grouped, x='season', y='count', color='is_international_match', title='Number of Matches by Season (UK vs International)', markers=True)\n",
        "fig.update_layout(\n",
        "    xaxis_title='Season',\n",
        "    yaxis_title='Number of Matches',\n",
        "    legend_title='Match Type',\n",
        "    template='plotly_white'\n",
        ")\n",
        "fig.show()\n"
      ]
    },
    {
      "cell_type": "markdown",
      "metadata": {},
      "source": [
        "## Key Insights – Number of Matches by Season (UK vs International)\n",
        "\n",
        "1. **Early UK dominance**\n",
        "* From the early 1980s through the mid-1990s, the professional snooker calendar was overwhelmingly UK-based, peaking in the 1991–1992 season.  \n",
        "2. **Limited international presence initially**\n",
        "* International matches remained low during this period, reflecting the sport’s UK-centric origins.  \n",
        "3. **Growth in international matches**\n",
        "* From the early 2000s onwards, international matches began to rise steadily, indicating efforts to globalise the sport.  \n",
        "4. **Narrowing gap**\n",
        "* By the 2010s, the gap between UK and international matches had significantly reduced, with international events becoming a key part of the tour.  \n",
        "5. **Recent near parity**\n",
        "* In the most recent seasons, the number of international matches has approached UK match levels, marking a shift towards a truly global professional circuit.\n",
        "\n",
        "---\n"
      ]
    },
    {
      "cell_type": "markdown",
      "metadata": {},
      "source": [
        "## Plot 2 - Tournament Winners (UK vs International) by Season"
      ]
    },
    {
      "cell_type": "code",
      "execution_count": 19,
      "metadata": {},
      "outputs": [
        {
          "data": {
            "text/html": [
              "<div>\n",
              "<style scoped>\n",
              "    .dataframe tbody tr th:only-of-type {\n",
              "        vertical-align: middle;\n",
              "    }\n",
              "\n",
              "    .dataframe tbody tr th {\n",
              "        vertical-align: top;\n",
              "    }\n",
              "\n",
              "    .dataframe thead th {\n",
              "        text-align: right;\n",
              "    }\n",
              "</style>\n",
              "<table border=\"1\" class=\"dataframe\">\n",
              "  <thead>\n",
              "    <tr style=\"text-align: right;\">\n",
              "      <th></th>\n",
              "      <th>tournament_id</th>\n",
              "      <th>match_id</th>\n",
              "      <th>stage</th>\n",
              "      <th>best_of</th>\n",
              "      <th>player1_name</th>\n",
              "      <th>player2_name</th>\n",
              "      <th>player1_score</th>\n",
              "      <th>player2_score</th>\n",
              "      <th>season</th>\n",
              "      <th>year</th>\n",
              "      <th>tournament_name</th>\n",
              "      <th>tournament_country</th>\n",
              "      <th>tournament_prize_pool</th>\n",
              "      <th>tournament_status</th>\n",
              "      <th>player1_country</th>\n",
              "      <th>player2_country</th>\n",
              "      <th>match_winner</th>\n",
              "      <th>match_winner_country</th>\n",
              "      <th>is_international_match</th>\n",
              "      <th>is_international_tournament</th>\n",
              "    </tr>\n",
              "  </thead>\n",
              "  <tbody>\n",
              "    <tr>\n",
              "      <th>0</th>\n",
              "      <td>753</td>\n",
              "      <td>82716</td>\n",
              "      <td>Final</td>\n",
              "      <td>31</td>\n",
              "      <td>Terry Griffiths</td>\n",
              "      <td>Alex Higgins</td>\n",
              "      <td>16</td>\n",
              "      <td>15</td>\n",
              "      <td>1982-1983</td>\n",
              "      <td>1982</td>\n",
              "      <td>UK Championship</td>\n",
              "      <td>England</td>\n",
              "      <td>47000.0</td>\n",
              "      <td>Professional</td>\n",
              "      <td>Wales</td>\n",
              "      <td>Northern Ireland</td>\n",
              "      <td>Terry Griffiths</td>\n",
              "      <td>Wales</td>\n",
              "      <td>False</td>\n",
              "      <td>False</td>\n",
              "    </tr>\n",
              "    <tr>\n",
              "      <th>1</th>\n",
              "      <td>753</td>\n",
              "      <td>82718</td>\n",
              "      <td>Semi-final</td>\n",
              "      <td>17</td>\n",
              "      <td>Terry Griffiths</td>\n",
              "      <td>Tony Meo</td>\n",
              "      <td>9</td>\n",
              "      <td>7</td>\n",
              "      <td>1982-1983</td>\n",
              "      <td>1982</td>\n",
              "      <td>UK Championship</td>\n",
              "      <td>England</td>\n",
              "      <td>47000.0</td>\n",
              "      <td>Professional</td>\n",
              "      <td>Wales</td>\n",
              "      <td>England</td>\n",
              "      <td>Terry Griffiths</td>\n",
              "      <td>Wales</td>\n",
              "      <td>False</td>\n",
              "      <td>False</td>\n",
              "    </tr>\n",
              "    <tr>\n",
              "      <th>2</th>\n",
              "      <td>753</td>\n",
              "      <td>82717</td>\n",
              "      <td>Semi-final</td>\n",
              "      <td>17</td>\n",
              "      <td>Alex Higgins</td>\n",
              "      <td>Ray Reardon</td>\n",
              "      <td>9</td>\n",
              "      <td>6</td>\n",
              "      <td>1982-1983</td>\n",
              "      <td>1982</td>\n",
              "      <td>UK Championship</td>\n",
              "      <td>England</td>\n",
              "      <td>47000.0</td>\n",
              "      <td>Professional</td>\n",
              "      <td>Northern Ireland</td>\n",
              "      <td>Wales</td>\n",
              "      <td>Alex Higgins</td>\n",
              "      <td>Northern Ireland</td>\n",
              "      <td>False</td>\n",
              "      <td>False</td>\n",
              "    </tr>\n",
              "    <tr>\n",
              "      <th>3</th>\n",
              "      <td>753</td>\n",
              "      <td>82721</td>\n",
              "      <td>Quarter-final</td>\n",
              "      <td>17</td>\n",
              "      <td>Terry Griffiths</td>\n",
              "      <td>Steve Davis</td>\n",
              "      <td>9</td>\n",
              "      <td>6</td>\n",
              "      <td>1982-1983</td>\n",
              "      <td>1982</td>\n",
              "      <td>UK Championship</td>\n",
              "      <td>England</td>\n",
              "      <td>47000.0</td>\n",
              "      <td>Professional</td>\n",
              "      <td>Wales</td>\n",
              "      <td>England</td>\n",
              "      <td>Terry Griffiths</td>\n",
              "      <td>Wales</td>\n",
              "      <td>False</td>\n",
              "      <td>False</td>\n",
              "    </tr>\n",
              "    <tr>\n",
              "      <th>4</th>\n",
              "      <td>753</td>\n",
              "      <td>82719</td>\n",
              "      <td>Quarter-final</td>\n",
              "      <td>17</td>\n",
              "      <td>Alex Higgins</td>\n",
              "      <td>John Spencer</td>\n",
              "      <td>9</td>\n",
              "      <td>5</td>\n",
              "      <td>1982-1983</td>\n",
              "      <td>1982</td>\n",
              "      <td>UK Championship</td>\n",
              "      <td>England</td>\n",
              "      <td>47000.0</td>\n",
              "      <td>Professional</td>\n",
              "      <td>Northern Ireland</td>\n",
              "      <td>England</td>\n",
              "      <td>Alex Higgins</td>\n",
              "      <td>Northern Ireland</td>\n",
              "      <td>False</td>\n",
              "      <td>False</td>\n",
              "    </tr>\n",
              "    <tr>\n",
              "      <th>...</th>\n",
              "      <td>...</td>\n",
              "      <td>...</td>\n",
              "      <td>...</td>\n",
              "      <td>...</td>\n",
              "      <td>...</td>\n",
              "      <td>...</td>\n",
              "      <td>...</td>\n",
              "      <td>...</td>\n",
              "      <td>...</td>\n",
              "      <td>...</td>\n",
              "      <td>...</td>\n",
              "      <td>...</td>\n",
              "      <td>...</td>\n",
              "      <td>...</td>\n",
              "      <td>...</td>\n",
              "      <td>...</td>\n",
              "      <td>...</td>\n",
              "      <td>...</td>\n",
              "      <td>...</td>\n",
              "      <td>...</td>\n",
              "    </tr>\n",
              "    <tr>\n",
              "      <th>102809</th>\n",
              "      <td>3275</td>\n",
              "      <td>203168</td>\n",
              "      <td>Group 1</td>\n",
              "      <td>5</td>\n",
              "      <td>Neil Robertson</td>\n",
              "      <td>Luca Brecel</td>\n",
              "      <td>3</td>\n",
              "      <td>1</td>\n",
              "      <td>2019-2020</td>\n",
              "      <td>2020</td>\n",
              "      <td>Championship League</td>\n",
              "      <td>England</td>\n",
              "      <td>0.0</td>\n",
              "      <td>Professional</td>\n",
              "      <td>Australia</td>\n",
              "      <td>Belgium</td>\n",
              "      <td>Neil Robertson</td>\n",
              "      <td>Australia</td>\n",
              "      <td>True</td>\n",
              "      <td>False</td>\n",
              "    </tr>\n",
              "    <tr>\n",
              "      <th>102810</th>\n",
              "      <td>3275</td>\n",
              "      <td>203174</td>\n",
              "      <td>Group 1</td>\n",
              "      <td>5</td>\n",
              "      <td>Neil Robertson</td>\n",
              "      <td>Jack Lisowski</td>\n",
              "      <td>3</td>\n",
              "      <td>1</td>\n",
              "      <td>2019-2020</td>\n",
              "      <td>2020</td>\n",
              "      <td>Championship League</td>\n",
              "      <td>England</td>\n",
              "      <td>0.0</td>\n",
              "      <td>Professional</td>\n",
              "      <td>Australia</td>\n",
              "      <td>England</td>\n",
              "      <td>Neil Robertson</td>\n",
              "      <td>Australia</td>\n",
              "      <td>True</td>\n",
              "      <td>False</td>\n",
              "    </tr>\n",
              "    <tr>\n",
              "      <th>102811</th>\n",
              "      <td>3275</td>\n",
              "      <td>203167</td>\n",
              "      <td>Group 1</td>\n",
              "      <td>5</td>\n",
              "      <td>Mark Selby</td>\n",
              "      <td>Luca Brecel</td>\n",
              "      <td>3</td>\n",
              "      <td>0</td>\n",
              "      <td>2019-2020</td>\n",
              "      <td>2020</td>\n",
              "      <td>Championship League</td>\n",
              "      <td>England</td>\n",
              "      <td>0.0</td>\n",
              "      <td>Professional</td>\n",
              "      <td>England</td>\n",
              "      <td>Belgium</td>\n",
              "      <td>Mark Selby</td>\n",
              "      <td>England</td>\n",
              "      <td>True</td>\n",
              "      <td>False</td>\n",
              "    </tr>\n",
              "    <tr>\n",
              "      <th>102812</th>\n",
              "      <td>3275</td>\n",
              "      <td>203169</td>\n",
              "      <td>Group 1</td>\n",
              "      <td>5</td>\n",
              "      <td>Mark Selby</td>\n",
              "      <td>Ryan Day</td>\n",
              "      <td>3</td>\n",
              "      <td>2</td>\n",
              "      <td>2019-2020</td>\n",
              "      <td>2020</td>\n",
              "      <td>Championship League</td>\n",
              "      <td>England</td>\n",
              "      <td>0.0</td>\n",
              "      <td>Professional</td>\n",
              "      <td>England</td>\n",
              "      <td>Wales</td>\n",
              "      <td>Mark Selby</td>\n",
              "      <td>England</td>\n",
              "      <td>False</td>\n",
              "      <td>False</td>\n",
              "    </tr>\n",
              "    <tr>\n",
              "      <th>102813</th>\n",
              "      <td>3275</td>\n",
              "      <td>203175</td>\n",
              "      <td>Group 1</td>\n",
              "      <td>5</td>\n",
              "      <td>Mark Selby</td>\n",
              "      <td>Jimmy Robertson</td>\n",
              "      <td>3</td>\n",
              "      <td>1</td>\n",
              "      <td>2019-2020</td>\n",
              "      <td>2020</td>\n",
              "      <td>Championship League</td>\n",
              "      <td>England</td>\n",
              "      <td>0.0</td>\n",
              "      <td>Professional</td>\n",
              "      <td>England</td>\n",
              "      <td>England</td>\n",
              "      <td>Mark Selby</td>\n",
              "      <td>England</td>\n",
              "      <td>False</td>\n",
              "      <td>False</td>\n",
              "    </tr>\n",
              "  </tbody>\n",
              "</table>\n",
              "<p>102814 rows × 20 columns</p>\n",
              "</div>"
            ],
            "text/plain": [
              "        tournament_id  match_id          stage  best_of     player1_name  \\\n",
              "0                 753     82716          Final       31  Terry Griffiths   \n",
              "1                 753     82718     Semi-final       17  Terry Griffiths   \n",
              "2                 753     82717     Semi-final       17     Alex Higgins   \n",
              "3                 753     82721  Quarter-final       17  Terry Griffiths   \n",
              "4                 753     82719  Quarter-final       17     Alex Higgins   \n",
              "...               ...       ...            ...      ...              ...   \n",
              "102809           3275    203168        Group 1        5   Neil Robertson   \n",
              "102810           3275    203174        Group 1        5   Neil Robertson   \n",
              "102811           3275    203167        Group 1        5       Mark Selby   \n",
              "102812           3275    203169        Group 1        5       Mark Selby   \n",
              "102813           3275    203175        Group 1        5       Mark Selby   \n",
              "\n",
              "           player2_name  player1_score  player2_score     season  year  \\\n",
              "0          Alex Higgins             16             15  1982-1983  1982   \n",
              "1              Tony Meo              9              7  1982-1983  1982   \n",
              "2           Ray Reardon              9              6  1982-1983  1982   \n",
              "3           Steve Davis              9              6  1982-1983  1982   \n",
              "4          John Spencer              9              5  1982-1983  1982   \n",
              "...                 ...            ...            ...        ...   ...   \n",
              "102809      Luca Brecel              3              1  2019-2020  2020   \n",
              "102810    Jack Lisowski              3              1  2019-2020  2020   \n",
              "102811      Luca Brecel              3              0  2019-2020  2020   \n",
              "102812         Ryan Day              3              2  2019-2020  2020   \n",
              "102813  Jimmy Robertson              3              1  2019-2020  2020   \n",
              "\n",
              "            tournament_name tournament_country  tournament_prize_pool  \\\n",
              "0           UK Championship            England                47000.0   \n",
              "1           UK Championship            England                47000.0   \n",
              "2           UK Championship            England                47000.0   \n",
              "3           UK Championship            England                47000.0   \n",
              "4           UK Championship            England                47000.0   \n",
              "...                     ...                ...                    ...   \n",
              "102809  Championship League            England                    0.0   \n",
              "102810  Championship League            England                    0.0   \n",
              "102811  Championship League            England                    0.0   \n",
              "102812  Championship League            England                    0.0   \n",
              "102813  Championship League            England                    0.0   \n",
              "\n",
              "       tournament_status   player1_country   player2_country     match_winner  \\\n",
              "0           Professional             Wales  Northern Ireland  Terry Griffiths   \n",
              "1           Professional             Wales           England  Terry Griffiths   \n",
              "2           Professional  Northern Ireland             Wales     Alex Higgins   \n",
              "3           Professional             Wales           England  Terry Griffiths   \n",
              "4           Professional  Northern Ireland           England     Alex Higgins   \n",
              "...                  ...               ...               ...              ...   \n",
              "102809      Professional         Australia           Belgium   Neil Robertson   \n",
              "102810      Professional         Australia           England   Neil Robertson   \n",
              "102811      Professional           England           Belgium       Mark Selby   \n",
              "102812      Professional           England             Wales       Mark Selby   \n",
              "102813      Professional           England           England       Mark Selby   \n",
              "\n",
              "       match_winner_country  is_international_match  \\\n",
              "0                     Wales                   False   \n",
              "1                     Wales                   False   \n",
              "2          Northern Ireland                   False   \n",
              "3                     Wales                   False   \n",
              "4          Northern Ireland                   False   \n",
              "...                     ...                     ...   \n",
              "102809            Australia                    True   \n",
              "102810            Australia                    True   \n",
              "102811              England                    True   \n",
              "102812              England                   False   \n",
              "102813              England                   False   \n",
              "\n",
              "        is_international_tournament  \n",
              "0                             False  \n",
              "1                             False  \n",
              "2                             False  \n",
              "3                             False  \n",
              "4                             False  \n",
              "...                             ...  \n",
              "102809                        False  \n",
              "102810                        False  \n",
              "102811                        False  \n",
              "102812                        False  \n",
              "102813                        False  \n",
              "\n",
              "[102814 rows x 20 columns]"
            ]
          },
          "execution_count": 19,
          "metadata": {},
          "output_type": "execute_result"
        }
      ],
      "source": [
        "df_master"
      ]
    },
    {
      "cell_type": "code",
      "execution_count": 28,
      "metadata": {},
      "outputs": [
        {
          "data": {
            "text/html": [
              "<div>\n",
              "<style scoped>\n",
              "    .dataframe tbody tr th:only-of-type {\n",
              "        vertical-align: middle;\n",
              "    }\n",
              "\n",
              "    .dataframe tbody tr th {\n",
              "        vertical-align: top;\n",
              "    }\n",
              "\n",
              "    .dataframe thead th {\n",
              "        text-align: right;\n",
              "    }\n",
              "</style>\n",
              "<table border=\"1\" class=\"dataframe\">\n",
              "  <thead>\n",
              "    <tr style=\"text-align: right;\">\n",
              "      <th></th>\n",
              "      <th>tournament_id</th>\n",
              "      <th>match_id</th>\n",
              "      <th>stage</th>\n",
              "      <th>best_of</th>\n",
              "      <th>player1_name</th>\n",
              "      <th>player2_name</th>\n",
              "      <th>player1_score</th>\n",
              "      <th>player2_score</th>\n",
              "      <th>season</th>\n",
              "      <th>year</th>\n",
              "      <th>tournament_name</th>\n",
              "      <th>tournament_country</th>\n",
              "      <th>tournament_prize_pool</th>\n",
              "      <th>tournament_status</th>\n",
              "      <th>player1_country</th>\n",
              "      <th>player2_country</th>\n",
              "      <th>match_winner</th>\n",
              "      <th>match_winner_country</th>\n",
              "      <th>is_international_match</th>\n",
              "      <th>is_international_tournament</th>\n",
              "    </tr>\n",
              "  </thead>\n",
              "  <tbody>\n",
              "    <tr>\n",
              "      <th>0</th>\n",
              "      <td>753</td>\n",
              "      <td>82716</td>\n",
              "      <td>Final</td>\n",
              "      <td>31</td>\n",
              "      <td>Terry Griffiths</td>\n",
              "      <td>Alex Higgins</td>\n",
              "      <td>16</td>\n",
              "      <td>15</td>\n",
              "      <td>1982-1983</td>\n",
              "      <td>1982</td>\n",
              "      <td>UK Championship</td>\n",
              "      <td>England</td>\n",
              "      <td>47000.0</td>\n",
              "      <td>Professional</td>\n",
              "      <td>Wales</td>\n",
              "      <td>Northern Ireland</td>\n",
              "      <td>Terry Griffiths</td>\n",
              "      <td>Wales</td>\n",
              "      <td>False</td>\n",
              "      <td>False</td>\n",
              "    </tr>\n",
              "    <tr>\n",
              "      <th>55</th>\n",
              "      <td>762</td>\n",
              "      <td>83027</td>\n",
              "      <td>Final</td>\n",
              "      <td>19</td>\n",
              "      <td>Ray Reardon</td>\n",
              "      <td>Jimmy White</td>\n",
              "      <td>10</td>\n",
              "      <td>5</td>\n",
              "      <td>1982-1983</td>\n",
              "      <td>1982</td>\n",
              "      <td>Professional Players Tournament</td>\n",
              "      <td>England</td>\n",
              "      <td>31500.0</td>\n",
              "      <td>Professional</td>\n",
              "      <td>Wales</td>\n",
              "      <td>England</td>\n",
              "      <td>Ray Reardon</td>\n",
              "      <td>Wales</td>\n",
              "      <td>False</td>\n",
              "      <td>False</td>\n",
              "    </tr>\n",
              "    <tr>\n",
              "      <th>119</th>\n",
              "      <td>754</td>\n",
              "      <td>82792</td>\n",
              "      <td>Final</td>\n",
              "      <td>17</td>\n",
              "      <td>Tony Knowles</td>\n",
              "      <td>David Taylor</td>\n",
              "      <td>9</td>\n",
              "      <td>6</td>\n",
              "      <td>1982-1983</td>\n",
              "      <td>1982</td>\n",
              "      <td>International Open</td>\n",
              "      <td>England</td>\n",
              "      <td>73500.0</td>\n",
              "      <td>Professional</td>\n",
              "      <td>England</td>\n",
              "      <td>England</td>\n",
              "      <td>Tony Knowles</td>\n",
              "      <td>England</td>\n",
              "      <td>False</td>\n",
              "      <td>False</td>\n",
              "    </tr>\n",
              "    <tr>\n",
              "      <th>187</th>\n",
              "      <td>759</td>\n",
              "      <td>83004</td>\n",
              "      <td>Final</td>\n",
              "      <td>17</td>\n",
              "      <td>Steve Davis</td>\n",
              "      <td>Alex Higgins</td>\n",
              "      <td>9</td>\n",
              "      <td>4</td>\n",
              "      <td>1982-1983</td>\n",
              "      <td>1982</td>\n",
              "      <td>Scottish Masters</td>\n",
              "      <td>Scotland</td>\n",
              "      <td>23000.0</td>\n",
              "      <td>Professional</td>\n",
              "      <td>England</td>\n",
              "      <td>Northern Ireland</td>\n",
              "      <td>Steve Davis</td>\n",
              "      <td>England</td>\n",
              "      <td>False</td>\n",
              "      <td>False</td>\n",
              "    </tr>\n",
              "    <tr>\n",
              "      <th>194</th>\n",
              "      <td>795</td>\n",
              "      <td>83852</td>\n",
              "      <td>Final</td>\n",
              "      <td>3</td>\n",
              "      <td>Steve Davis</td>\n",
              "      <td>Eddie Charlton</td>\n",
              "      <td>2</td>\n",
              "      <td>1</td>\n",
              "      <td>1982-1983</td>\n",
              "      <td>1982</td>\n",
              "      <td>Australian Masters</td>\n",
              "      <td>Australia</td>\n",
              "      <td>18568.0</td>\n",
              "      <td>Professional</td>\n",
              "      <td>England</td>\n",
              "      <td>Australia</td>\n",
              "      <td>Steve Davis</td>\n",
              "      <td>England</td>\n",
              "      <td>True</td>\n",
              "      <td>True</td>\n",
              "    </tr>\n",
              "    <tr>\n",
              "      <th>...</th>\n",
              "      <td>...</td>\n",
              "      <td>...</td>\n",
              "      <td>...</td>\n",
              "      <td>...</td>\n",
              "      <td>...</td>\n",
              "      <td>...</td>\n",
              "      <td>...</td>\n",
              "      <td>...</td>\n",
              "      <td>...</td>\n",
              "      <td>...</td>\n",
              "      <td>...</td>\n",
              "      <td>...</td>\n",
              "      <td>...</td>\n",
              "      <td>...</td>\n",
              "      <td>...</td>\n",
              "      <td>...</td>\n",
              "      <td>...</td>\n",
              "      <td>...</td>\n",
              "      <td>...</td>\n",
              "      <td>...</td>\n",
              "    </tr>\n",
              "    <tr>\n",
              "      <th>102226</th>\n",
              "      <td>2854</td>\n",
              "      <td>182175</td>\n",
              "      <td>Final</td>\n",
              "      <td>17</td>\n",
              "      <td>Neil Robertson</td>\n",
              "      <td>Stuart Bingham</td>\n",
              "      <td>9</td>\n",
              "      <td>7</td>\n",
              "      <td>2018-2019</td>\n",
              "      <td>2019</td>\n",
              "      <td>Welsh Open</td>\n",
              "      <td>Wales</td>\n",
              "      <td>364000.0</td>\n",
              "      <td>Professional</td>\n",
              "      <td>Australia</td>\n",
              "      <td>England</td>\n",
              "      <td>Neil Robertson</td>\n",
              "      <td>Australia</td>\n",
              "      <td>True</td>\n",
              "      <td>False</td>\n",
              "    </tr>\n",
              "    <tr>\n",
              "      <th>102353</th>\n",
              "      <td>2852</td>\n",
              "      <td>182048</td>\n",
              "      <td>Final</td>\n",
              "      <td>19</td>\n",
              "      <td>Judd Trump</td>\n",
              "      <td>Ali Carter</td>\n",
              "      <td>10</td>\n",
              "      <td>6</td>\n",
              "      <td>2018-2019</td>\n",
              "      <td>2019</td>\n",
              "      <td>World Grand Prix</td>\n",
              "      <td>England</td>\n",
              "      <td>370000.0</td>\n",
              "      <td>Professional</td>\n",
              "      <td>England</td>\n",
              "      <td>England</td>\n",
              "      <td>Judd Trump</td>\n",
              "      <td>England</td>\n",
              "      <td>False</td>\n",
              "      <td>False</td>\n",
              "    </tr>\n",
              "    <tr>\n",
              "      <th>102384</th>\n",
              "      <td>2777</td>\n",
              "      <td>181923</td>\n",
              "      <td>Final</td>\n",
              "      <td>17</td>\n",
              "      <td>Kyren Wilson</td>\n",
              "      <td>David Gilbert</td>\n",
              "      <td>9</td>\n",
              "      <td>7</td>\n",
              "      <td>2018-2019</td>\n",
              "      <td>2019</td>\n",
              "      <td>German Masters</td>\n",
              "      <td>Germany</td>\n",
              "      <td>395000.0</td>\n",
              "      <td>Professional</td>\n",
              "      <td>England</td>\n",
              "      <td>England</td>\n",
              "      <td>Kyren Wilson</td>\n",
              "      <td>England</td>\n",
              "      <td>False</td>\n",
              "      <td>True</td>\n",
              "    </tr>\n",
              "    <tr>\n",
              "      <th>102511</th>\n",
              "      <td>2821</td>\n",
              "      <td>181132</td>\n",
              "      <td>Final</td>\n",
              "      <td>19</td>\n",
              "      <td>Judd Trump</td>\n",
              "      <td>Ronnie O'Sullivan</td>\n",
              "      <td>10</td>\n",
              "      <td>4</td>\n",
              "      <td>2018-2019</td>\n",
              "      <td>2019</td>\n",
              "      <td>Masters</td>\n",
              "      <td>England</td>\n",
              "      <td>590000.0</td>\n",
              "      <td>Professional</td>\n",
              "      <td>England</td>\n",
              "      <td>England</td>\n",
              "      <td>Judd Trump</td>\n",
              "      <td>England</td>\n",
              "      <td>False</td>\n",
              "      <td>False</td>\n",
              "    </tr>\n",
              "    <tr>\n",
              "      <th>102526</th>\n",
              "      <td>2820</td>\n",
              "      <td>184694</td>\n",
              "      <td>Final</td>\n",
              "      <td>5</td>\n",
              "      <td>Martin Gould</td>\n",
              "      <td>Jack Lisowski</td>\n",
              "      <td>3</td>\n",
              "      <td>1</td>\n",
              "      <td>2018-2019</td>\n",
              "      <td>2019</td>\n",
              "      <td>Championship League</td>\n",
              "      <td>England</td>\n",
              "      <td>177800.0</td>\n",
              "      <td>Professional</td>\n",
              "      <td>England</td>\n",
              "      <td>England</td>\n",
              "      <td>Martin Gould</td>\n",
              "      <td>England</td>\n",
              "      <td>False</td>\n",
              "      <td>False</td>\n",
              "    </tr>\n",
              "  </tbody>\n",
              "</table>\n",
              "<p>865 rows × 20 columns</p>\n",
              "</div>"
            ],
            "text/plain": [
              "        tournament_id  match_id  stage  best_of     player1_name  \\\n",
              "0                 753     82716  Final       31  Terry Griffiths   \n",
              "55                762     83027  Final       19      Ray Reardon   \n",
              "119               754     82792  Final       17     Tony Knowles   \n",
              "187               759     83004  Final       17      Steve Davis   \n",
              "194               795     83852  Final        3      Steve Davis   \n",
              "...               ...       ...    ...      ...              ...   \n",
              "102226           2854    182175  Final       17   Neil Robertson   \n",
              "102353           2852    182048  Final       19       Judd Trump   \n",
              "102384           2777    181923  Final       17     Kyren Wilson   \n",
              "102511           2821    181132  Final       19       Judd Trump   \n",
              "102526           2820    184694  Final        5     Martin Gould   \n",
              "\n",
              "             player2_name  player1_score  player2_score     season  year  \\\n",
              "0            Alex Higgins             16             15  1982-1983  1982   \n",
              "55            Jimmy White             10              5  1982-1983  1982   \n",
              "119          David Taylor              9              6  1982-1983  1982   \n",
              "187          Alex Higgins              9              4  1982-1983  1982   \n",
              "194        Eddie Charlton              2              1  1982-1983  1982   \n",
              "...                   ...            ...            ...        ...   ...   \n",
              "102226     Stuart Bingham              9              7  2018-2019  2019   \n",
              "102353         Ali Carter             10              6  2018-2019  2019   \n",
              "102384      David Gilbert              9              7  2018-2019  2019   \n",
              "102511  Ronnie O'Sullivan             10              4  2018-2019  2019   \n",
              "102526      Jack Lisowski              3              1  2018-2019  2019   \n",
              "\n",
              "                        tournament_name tournament_country  \\\n",
              "0                       UK Championship            England   \n",
              "55      Professional Players Tournament            England   \n",
              "119                  International Open            England   \n",
              "187                    Scottish Masters           Scotland   \n",
              "194                  Australian Masters          Australia   \n",
              "...                                 ...                ...   \n",
              "102226                       Welsh Open              Wales   \n",
              "102353                 World Grand Prix            England   \n",
              "102384                   German Masters            Germany   \n",
              "102511                          Masters            England   \n",
              "102526              Championship League            England   \n",
              "\n",
              "        tournament_prize_pool tournament_status player1_country  \\\n",
              "0                     47000.0      Professional           Wales   \n",
              "55                    31500.0      Professional           Wales   \n",
              "119                   73500.0      Professional         England   \n",
              "187                   23000.0      Professional         England   \n",
              "194                   18568.0      Professional         England   \n",
              "...                       ...               ...             ...   \n",
              "102226               364000.0      Professional       Australia   \n",
              "102353               370000.0      Professional         England   \n",
              "102384               395000.0      Professional         England   \n",
              "102511               590000.0      Professional         England   \n",
              "102526               177800.0      Professional         England   \n",
              "\n",
              "         player2_country     match_winner match_winner_country  \\\n",
              "0       Northern Ireland  Terry Griffiths                Wales   \n",
              "55               England      Ray Reardon                Wales   \n",
              "119              England     Tony Knowles              England   \n",
              "187     Northern Ireland      Steve Davis              England   \n",
              "194            Australia      Steve Davis              England   \n",
              "...                  ...              ...                  ...   \n",
              "102226           England   Neil Robertson            Australia   \n",
              "102353           England       Judd Trump              England   \n",
              "102384           England     Kyren Wilson              England   \n",
              "102511           England       Judd Trump              England   \n",
              "102526           England     Martin Gould              England   \n",
              "\n",
              "        is_international_match  is_international_tournament  \n",
              "0                        False                        False  \n",
              "55                       False                        False  \n",
              "119                      False                        False  \n",
              "187                      False                        False  \n",
              "194                       True                         True  \n",
              "...                        ...                          ...  \n",
              "102226                    True                        False  \n",
              "102353                   False                        False  \n",
              "102384                   False                         True  \n",
              "102511                   False                        False  \n",
              "102526                   False                        False  \n",
              "\n",
              "[865 rows x 20 columns]"
            ]
          },
          "execution_count": 28,
          "metadata": {},
          "output_type": "execute_result"
        }
      ],
      "source": [
        "# filter df_master to only show finals\n",
        "df_master_finals = df_master[df_master['stage'] == 'Final'].copy()\n",
        "\n",
        "df_master_finals"
      ]
    },
    {
      "cell_type": "code",
      "execution_count": 32,
      "metadata": {},
      "outputs": [
        {
          "data": {
            "text/html": [
              "<div>\n",
              "<style scoped>\n",
              "    .dataframe tbody tr th:only-of-type {\n",
              "        vertical-align: middle;\n",
              "    }\n",
              "\n",
              "    .dataframe tbody tr th {\n",
              "        vertical-align: top;\n",
              "    }\n",
              "\n",
              "    .dataframe thead th {\n",
              "        text-align: right;\n",
              "    }\n",
              "</style>\n",
              "<table border=\"1\" class=\"dataframe\">\n",
              "  <thead>\n",
              "    <tr style=\"text-align: right;\">\n",
              "      <th></th>\n",
              "      <th>tournament_id</th>\n",
              "      <th>match_id</th>\n",
              "      <th>stage</th>\n",
              "      <th>best_of</th>\n",
              "      <th>player1_name</th>\n",
              "      <th>player2_name</th>\n",
              "      <th>player1_score</th>\n",
              "      <th>player2_score</th>\n",
              "      <th>season</th>\n",
              "      <th>year</th>\n",
              "      <th>...</th>\n",
              "      <th>tournament_country</th>\n",
              "      <th>tournament_prize_pool</th>\n",
              "      <th>tournament_status</th>\n",
              "      <th>player1_country</th>\n",
              "      <th>player2_country</th>\n",
              "      <th>match_winner</th>\n",
              "      <th>match_winner_country</th>\n",
              "      <th>is_international_match</th>\n",
              "      <th>is_international_tournament</th>\n",
              "      <th>winner_region</th>\n",
              "    </tr>\n",
              "  </thead>\n",
              "  <tbody>\n",
              "    <tr>\n",
              "      <th>0</th>\n",
              "      <td>753</td>\n",
              "      <td>82716</td>\n",
              "      <td>Final</td>\n",
              "      <td>31</td>\n",
              "      <td>Terry Griffiths</td>\n",
              "      <td>Alex Higgins</td>\n",
              "      <td>16</td>\n",
              "      <td>15</td>\n",
              "      <td>1982-1983</td>\n",
              "      <td>1982</td>\n",
              "      <td>...</td>\n",
              "      <td>England</td>\n",
              "      <td>47000.0</td>\n",
              "      <td>Professional</td>\n",
              "      <td>Wales</td>\n",
              "      <td>Northern Ireland</td>\n",
              "      <td>Terry Griffiths</td>\n",
              "      <td>Wales</td>\n",
              "      <td>False</td>\n",
              "      <td>False</td>\n",
              "      <td>UK</td>\n",
              "    </tr>\n",
              "    <tr>\n",
              "      <th>55</th>\n",
              "      <td>762</td>\n",
              "      <td>83027</td>\n",
              "      <td>Final</td>\n",
              "      <td>19</td>\n",
              "      <td>Ray Reardon</td>\n",
              "      <td>Jimmy White</td>\n",
              "      <td>10</td>\n",
              "      <td>5</td>\n",
              "      <td>1982-1983</td>\n",
              "      <td>1982</td>\n",
              "      <td>...</td>\n",
              "      <td>England</td>\n",
              "      <td>31500.0</td>\n",
              "      <td>Professional</td>\n",
              "      <td>Wales</td>\n",
              "      <td>England</td>\n",
              "      <td>Ray Reardon</td>\n",
              "      <td>Wales</td>\n",
              "      <td>False</td>\n",
              "      <td>False</td>\n",
              "      <td>UK</td>\n",
              "    </tr>\n",
              "    <tr>\n",
              "      <th>119</th>\n",
              "      <td>754</td>\n",
              "      <td>82792</td>\n",
              "      <td>Final</td>\n",
              "      <td>17</td>\n",
              "      <td>Tony Knowles</td>\n",
              "      <td>David Taylor</td>\n",
              "      <td>9</td>\n",
              "      <td>6</td>\n",
              "      <td>1982-1983</td>\n",
              "      <td>1982</td>\n",
              "      <td>...</td>\n",
              "      <td>England</td>\n",
              "      <td>73500.0</td>\n",
              "      <td>Professional</td>\n",
              "      <td>England</td>\n",
              "      <td>England</td>\n",
              "      <td>Tony Knowles</td>\n",
              "      <td>England</td>\n",
              "      <td>False</td>\n",
              "      <td>False</td>\n",
              "      <td>UK</td>\n",
              "    </tr>\n",
              "    <tr>\n",
              "      <th>187</th>\n",
              "      <td>759</td>\n",
              "      <td>83004</td>\n",
              "      <td>Final</td>\n",
              "      <td>17</td>\n",
              "      <td>Steve Davis</td>\n",
              "      <td>Alex Higgins</td>\n",
              "      <td>9</td>\n",
              "      <td>4</td>\n",
              "      <td>1982-1983</td>\n",
              "      <td>1982</td>\n",
              "      <td>...</td>\n",
              "      <td>Scotland</td>\n",
              "      <td>23000.0</td>\n",
              "      <td>Professional</td>\n",
              "      <td>England</td>\n",
              "      <td>Northern Ireland</td>\n",
              "      <td>Steve Davis</td>\n",
              "      <td>England</td>\n",
              "      <td>False</td>\n",
              "      <td>False</td>\n",
              "      <td>UK</td>\n",
              "    </tr>\n",
              "    <tr>\n",
              "      <th>194</th>\n",
              "      <td>795</td>\n",
              "      <td>83852</td>\n",
              "      <td>Final</td>\n",
              "      <td>3</td>\n",
              "      <td>Steve Davis</td>\n",
              "      <td>Eddie Charlton</td>\n",
              "      <td>2</td>\n",
              "      <td>1</td>\n",
              "      <td>1982-1983</td>\n",
              "      <td>1982</td>\n",
              "      <td>...</td>\n",
              "      <td>Australia</td>\n",
              "      <td>18568.0</td>\n",
              "      <td>Professional</td>\n",
              "      <td>England</td>\n",
              "      <td>Australia</td>\n",
              "      <td>Steve Davis</td>\n",
              "      <td>England</td>\n",
              "      <td>True</td>\n",
              "      <td>True</td>\n",
              "      <td>UK</td>\n",
              "    </tr>\n",
              "  </tbody>\n",
              "</table>\n",
              "<p>5 rows × 21 columns</p>\n",
              "</div>"
            ],
            "text/plain": [
              "     tournament_id  match_id  stage  best_of     player1_name    player2_name  \\\n",
              "0              753     82716  Final       31  Terry Griffiths    Alex Higgins   \n",
              "55             762     83027  Final       19      Ray Reardon     Jimmy White   \n",
              "119            754     82792  Final       17     Tony Knowles    David Taylor   \n",
              "187            759     83004  Final       17      Steve Davis    Alex Higgins   \n",
              "194            795     83852  Final        3      Steve Davis  Eddie Charlton   \n",
              "\n",
              "     player1_score  player2_score     season  year  ... tournament_country  \\\n",
              "0               16             15  1982-1983  1982  ...            England   \n",
              "55              10              5  1982-1983  1982  ...            England   \n",
              "119              9              6  1982-1983  1982  ...            England   \n",
              "187              9              4  1982-1983  1982  ...           Scotland   \n",
              "194              2              1  1982-1983  1982  ...          Australia   \n",
              "\n",
              "    tournament_prize_pool  tournament_status player1_country  \\\n",
              "0                 47000.0       Professional           Wales   \n",
              "55                31500.0       Professional           Wales   \n",
              "119               73500.0       Professional         England   \n",
              "187               23000.0       Professional         England   \n",
              "194               18568.0       Professional         England   \n",
              "\n",
              "      player2_country     match_winner match_winner_country  \\\n",
              "0    Northern Ireland  Terry Griffiths                Wales   \n",
              "55            England      Ray Reardon                Wales   \n",
              "119           England     Tony Knowles              England   \n",
              "187  Northern Ireland      Steve Davis              England   \n",
              "194         Australia      Steve Davis              England   \n",
              "\n",
              "    is_international_match  is_international_tournament  winner_region  \n",
              "0                    False                        False             UK  \n",
              "55                   False                        False             UK  \n",
              "119                  False                        False             UK  \n",
              "187                  False                        False             UK  \n",
              "194                   True                         True             UK  \n",
              "\n",
              "[5 rows x 21 columns]"
            ]
          },
          "execution_count": 32,
          "metadata": {},
          "output_type": "execute_result"
        }
      ],
      "source": [
        "# Create a new column for winner region\n",
        "df_master_finals['winner_region'] = df_master_finals['match_winner_country'].apply(\n",
        "    lambda x: 'UK' if x in UK_countries else 'International'\n",
        ")\n",
        "\n",
        "df_master_finals.head()"
      ]
    },
    {
      "cell_type": "code",
      "execution_count": 33,
      "metadata": {},
      "outputs": [
        {
          "data": {
            "text/html": [
              "<div>\n",
              "<style scoped>\n",
              "    .dataframe tbody tr th:only-of-type {\n",
              "        vertical-align: middle;\n",
              "    }\n",
              "\n",
              "    .dataframe tbody tr th {\n",
              "        vertical-align: top;\n",
              "    }\n",
              "\n",
              "    .dataframe thead th {\n",
              "        text-align: right;\n",
              "    }\n",
              "</style>\n",
              "<table border=\"1\" class=\"dataframe\">\n",
              "  <thead>\n",
              "    <tr style=\"text-align: right;\">\n",
              "      <th></th>\n",
              "      <th>season</th>\n",
              "      <th>winner_region</th>\n",
              "      <th>final_wins</th>\n",
              "    </tr>\n",
              "  </thead>\n",
              "  <tbody>\n",
              "    <tr>\n",
              "      <th>0</th>\n",
              "      <td>1981-1982</td>\n",
              "      <td>UK</td>\n",
              "      <td>13</td>\n",
              "    </tr>\n",
              "    <tr>\n",
              "      <th>1</th>\n",
              "      <td>1982-1983</td>\n",
              "      <td>International</td>\n",
              "      <td>1</td>\n",
              "    </tr>\n",
              "    <tr>\n",
              "      <th>2</th>\n",
              "      <td>1982-1983</td>\n",
              "      <td>UK</td>\n",
              "      <td>15</td>\n",
              "    </tr>\n",
              "    <tr>\n",
              "      <th>3</th>\n",
              "      <td>1983-1984</td>\n",
              "      <td>International</td>\n",
              "      <td>2</td>\n",
              "    </tr>\n",
              "    <tr>\n",
              "      <th>4</th>\n",
              "      <td>1983-1984</td>\n",
              "      <td>UK</td>\n",
              "      <td>16</td>\n",
              "    </tr>\n",
              "  </tbody>\n",
              "</table>\n",
              "</div>"
            ],
            "text/plain": [
              "      season  winner_region  final_wins\n",
              "0  1981-1982             UK          13\n",
              "1  1982-1983  International           1\n",
              "2  1982-1983             UK          15\n",
              "3  1983-1984  International           2\n",
              "4  1983-1984             UK          16"
            ]
          },
          "execution_count": 33,
          "metadata": {},
          "output_type": "execute_result"
        }
      ],
      "source": [
        "# Count final wins by season and region\n",
        "final_wins_by_season = (\n",
        "    df_master_finals\n",
        "    .groupby(['season', 'winner_region'])\n",
        "    .size()\n",
        "    .reset_index(name='final_wins')\n",
        ")\n",
        "\n",
        "final_wins_by_season.head()"
      ]
    },
    {
      "cell_type": "code",
      "execution_count": null,
      "metadata": {},
      "outputs": [
        {
          "data": {
            "application/vnd.plotly.v1+json": {
              "config": {
                "plotlyServerURL": "https://plot.ly"
              },
              "data": [
                {
                  "alignmentgroup": "True",
                  "hovertemplate": "winner_region=UK<br>season=%{x}<br>final_wins=%{y}<extra></extra>",
                  "legendgroup": "UK",
                  "marker": {
                    "color": "#636efa",
                    "pattern": {
                      "shape": ""
                    }
                  },
                  "name": "UK",
                  "offsetgroup": "UK",
                  "orientation": "v",
                  "showlegend": true,
                  "textposition": "auto",
                  "type": "bar",
                  "x": [
                    "1981-1982",
                    "1982-1983",
                    "1983-1984",
                    "1984-1985",
                    "1985-1986",
                    "1986-1987",
                    "1987-1988",
                    "1988-1989",
                    "1989-1990",
                    "1990-1991",
                    "1991-1992",
                    "1992-1993",
                    "1993-1994",
                    "1994-1995",
                    "1995-1996",
                    "1996-1997",
                    "1997-1998",
                    "1998-1999",
                    "1999-2000",
                    "2000-2001",
                    "2001-2002",
                    "2002-2003",
                    "2003-2004",
                    "2004-2005",
                    "2005-2006",
                    "2006-2007",
                    "2007-2008",
                    "2008-2009",
                    "2009-2010",
                    "2010-2011",
                    "2011-2012",
                    "2012-2013",
                    "2013-2014",
                    "2014-2015",
                    "2015-2016",
                    "2016-2017",
                    "2017-2018",
                    "2018-2019",
                    "2019-2020"
                  ],
                  "xaxis": "x",
                  "y": [
                    13,
                    15,
                    16,
                    18,
                    26,
                    24,
                    22,
                    27,
                    23,
                    20,
                    25,
                    20,
                    17,
                    20,
                    21,
                    19,
                    24,
                    22,
                    21,
                    19,
                    24,
                    19,
                    14,
                    13,
                    14,
                    14,
                    19,
                    13,
                    19,
                    23,
                    22,
                    24,
                    20,
                    22,
                    17,
                    18,
                    20,
                    21,
                    8
                  ],
                  "yaxis": "y"
                },
                {
                  "alignmentgroup": "True",
                  "hovertemplate": "winner_region=International<br>season=%{x}<br>final_wins=%{y}<extra></extra>",
                  "legendgroup": "International",
                  "marker": {
                    "color": "#EF553B",
                    "pattern": {
                      "shape": ""
                    }
                  },
                  "name": "International",
                  "offsetgroup": "International",
                  "orientation": "v",
                  "showlegend": true,
                  "textposition": "auto",
                  "type": "bar",
                  "x": [
                    "1982-1983",
                    "1983-1984",
                    "1984-1985",
                    "1985-1986",
                    "1986-1987",
                    "1987-1988",
                    "1988-1989",
                    "1989-1990",
                    "1990-1991",
                    "1991-1992",
                    "1992-1993",
                    "1993-1994",
                    "1994-1995",
                    "1995-1996",
                    "1997-1998",
                    "2001-2002",
                    "2002-2003",
                    "2003-2004",
                    "2004-2005",
                    "2005-2006",
                    "2006-2007",
                    "2007-2008",
                    "2008-2009",
                    "2009-2010",
                    "2010-2011",
                    "2011-2012",
                    "2012-2013",
                    "2013-2014",
                    "2014-2015",
                    "2015-2016",
                    "2016-2017",
                    "2017-2018",
                    "2018-2019",
                    "2019-2020"
                  ],
                  "xaxis": "x",
                  "y": [
                    1,
                    2,
                    4,
                    5,
                    6,
                    3,
                    4,
                    2,
                    1,
                    1,
                    3,
                    1,
                    2,
                    1,
                    1,
                    1,
                    1,
                    1,
                    1,
                    5,
                    5,
                    1,
                    7,
                    3,
                    3,
                    4,
                    4,
                    10,
                    3,
                    6,
                    5,
                    5,
                    4,
                    3
                  ],
                  "yaxis": "y"
                }
              ],
              "layout": {
                "barmode": "stack",
                "legend": {
                  "title": {
                    "text": "Winner Region"
                  },
                  "tracegroupgap": 0
                },
                "margin": {
                  "t": 60
                },
                "template": {
                  "data": {
                    "bar": [
                      {
                        "error_x": {
                          "color": "#2a3f5f"
                        },
                        "error_y": {
                          "color": "#2a3f5f"
                        },
                        "marker": {
                          "line": {
                            "color": "white",
                            "width": 0.5
                          },
                          "pattern": {
                            "fillmode": "overlay",
                            "size": 10,
                            "solidity": 0.2
                          }
                        },
                        "type": "bar"
                      }
                    ],
                    "barpolar": [
                      {
                        "marker": {
                          "line": {
                            "color": "white",
                            "width": 0.5
                          },
                          "pattern": {
                            "fillmode": "overlay",
                            "size": 10,
                            "solidity": 0.2
                          }
                        },
                        "type": "barpolar"
                      }
                    ],
                    "carpet": [
                      {
                        "aaxis": {
                          "endlinecolor": "#2a3f5f",
                          "gridcolor": "#C8D4E3",
                          "linecolor": "#C8D4E3",
                          "minorgridcolor": "#C8D4E3",
                          "startlinecolor": "#2a3f5f"
                        },
                        "baxis": {
                          "endlinecolor": "#2a3f5f",
                          "gridcolor": "#C8D4E3",
                          "linecolor": "#C8D4E3",
                          "minorgridcolor": "#C8D4E3",
                          "startlinecolor": "#2a3f5f"
                        },
                        "type": "carpet"
                      }
                    ],
                    "choropleth": [
                      {
                        "colorbar": {
                          "outlinewidth": 0,
                          "ticks": ""
                        },
                        "type": "choropleth"
                      }
                    ],
                    "contour": [
                      {
                        "colorbar": {
                          "outlinewidth": 0,
                          "ticks": ""
                        },
                        "colorscale": [
                          [
                            0,
                            "#0d0887"
                          ],
                          [
                            0.1111111111111111,
                            "#46039f"
                          ],
                          [
                            0.2222222222222222,
                            "#7201a8"
                          ],
                          [
                            0.3333333333333333,
                            "#9c179e"
                          ],
                          [
                            0.4444444444444444,
                            "#bd3786"
                          ],
                          [
                            0.5555555555555556,
                            "#d8576b"
                          ],
                          [
                            0.6666666666666666,
                            "#ed7953"
                          ],
                          [
                            0.7777777777777778,
                            "#fb9f3a"
                          ],
                          [
                            0.8888888888888888,
                            "#fdca26"
                          ],
                          [
                            1,
                            "#f0f921"
                          ]
                        ],
                        "type": "contour"
                      }
                    ],
                    "contourcarpet": [
                      {
                        "colorbar": {
                          "outlinewidth": 0,
                          "ticks": ""
                        },
                        "type": "contourcarpet"
                      }
                    ],
                    "heatmap": [
                      {
                        "colorbar": {
                          "outlinewidth": 0,
                          "ticks": ""
                        },
                        "colorscale": [
                          [
                            0,
                            "#0d0887"
                          ],
                          [
                            0.1111111111111111,
                            "#46039f"
                          ],
                          [
                            0.2222222222222222,
                            "#7201a8"
                          ],
                          [
                            0.3333333333333333,
                            "#9c179e"
                          ],
                          [
                            0.4444444444444444,
                            "#bd3786"
                          ],
                          [
                            0.5555555555555556,
                            "#d8576b"
                          ],
                          [
                            0.6666666666666666,
                            "#ed7953"
                          ],
                          [
                            0.7777777777777778,
                            "#fb9f3a"
                          ],
                          [
                            0.8888888888888888,
                            "#fdca26"
                          ],
                          [
                            1,
                            "#f0f921"
                          ]
                        ],
                        "type": "heatmap"
                      }
                    ],
                    "heatmapgl": [
                      {
                        "colorbar": {
                          "outlinewidth": 0,
                          "ticks": ""
                        },
                        "colorscale": [
                          [
                            0,
                            "#0d0887"
                          ],
                          [
                            0.1111111111111111,
                            "#46039f"
                          ],
                          [
                            0.2222222222222222,
                            "#7201a8"
                          ],
                          [
                            0.3333333333333333,
                            "#9c179e"
                          ],
                          [
                            0.4444444444444444,
                            "#bd3786"
                          ],
                          [
                            0.5555555555555556,
                            "#d8576b"
                          ],
                          [
                            0.6666666666666666,
                            "#ed7953"
                          ],
                          [
                            0.7777777777777778,
                            "#fb9f3a"
                          ],
                          [
                            0.8888888888888888,
                            "#fdca26"
                          ],
                          [
                            1,
                            "#f0f921"
                          ]
                        ],
                        "type": "heatmapgl"
                      }
                    ],
                    "histogram": [
                      {
                        "marker": {
                          "pattern": {
                            "fillmode": "overlay",
                            "size": 10,
                            "solidity": 0.2
                          }
                        },
                        "type": "histogram"
                      }
                    ],
                    "histogram2d": [
                      {
                        "colorbar": {
                          "outlinewidth": 0,
                          "ticks": ""
                        },
                        "colorscale": [
                          [
                            0,
                            "#0d0887"
                          ],
                          [
                            0.1111111111111111,
                            "#46039f"
                          ],
                          [
                            0.2222222222222222,
                            "#7201a8"
                          ],
                          [
                            0.3333333333333333,
                            "#9c179e"
                          ],
                          [
                            0.4444444444444444,
                            "#bd3786"
                          ],
                          [
                            0.5555555555555556,
                            "#d8576b"
                          ],
                          [
                            0.6666666666666666,
                            "#ed7953"
                          ],
                          [
                            0.7777777777777778,
                            "#fb9f3a"
                          ],
                          [
                            0.8888888888888888,
                            "#fdca26"
                          ],
                          [
                            1,
                            "#f0f921"
                          ]
                        ],
                        "type": "histogram2d"
                      }
                    ],
                    "histogram2dcontour": [
                      {
                        "colorbar": {
                          "outlinewidth": 0,
                          "ticks": ""
                        },
                        "colorscale": [
                          [
                            0,
                            "#0d0887"
                          ],
                          [
                            0.1111111111111111,
                            "#46039f"
                          ],
                          [
                            0.2222222222222222,
                            "#7201a8"
                          ],
                          [
                            0.3333333333333333,
                            "#9c179e"
                          ],
                          [
                            0.4444444444444444,
                            "#bd3786"
                          ],
                          [
                            0.5555555555555556,
                            "#d8576b"
                          ],
                          [
                            0.6666666666666666,
                            "#ed7953"
                          ],
                          [
                            0.7777777777777778,
                            "#fb9f3a"
                          ],
                          [
                            0.8888888888888888,
                            "#fdca26"
                          ],
                          [
                            1,
                            "#f0f921"
                          ]
                        ],
                        "type": "histogram2dcontour"
                      }
                    ],
                    "mesh3d": [
                      {
                        "colorbar": {
                          "outlinewidth": 0,
                          "ticks": ""
                        },
                        "type": "mesh3d"
                      }
                    ],
                    "parcoords": [
                      {
                        "line": {
                          "colorbar": {
                            "outlinewidth": 0,
                            "ticks": ""
                          }
                        },
                        "type": "parcoords"
                      }
                    ],
                    "pie": [
                      {
                        "automargin": true,
                        "type": "pie"
                      }
                    ],
                    "scatter": [
                      {
                        "fillpattern": {
                          "fillmode": "overlay",
                          "size": 10,
                          "solidity": 0.2
                        },
                        "type": "scatter"
                      }
                    ],
                    "scatter3d": [
                      {
                        "line": {
                          "colorbar": {
                            "outlinewidth": 0,
                            "ticks": ""
                          }
                        },
                        "marker": {
                          "colorbar": {
                            "outlinewidth": 0,
                            "ticks": ""
                          }
                        },
                        "type": "scatter3d"
                      }
                    ],
                    "scattercarpet": [
                      {
                        "marker": {
                          "colorbar": {
                            "outlinewidth": 0,
                            "ticks": ""
                          }
                        },
                        "type": "scattercarpet"
                      }
                    ],
                    "scattergeo": [
                      {
                        "marker": {
                          "colorbar": {
                            "outlinewidth": 0,
                            "ticks": ""
                          }
                        },
                        "type": "scattergeo"
                      }
                    ],
                    "scattergl": [
                      {
                        "marker": {
                          "colorbar": {
                            "outlinewidth": 0,
                            "ticks": ""
                          }
                        },
                        "type": "scattergl"
                      }
                    ],
                    "scattermapbox": [
                      {
                        "marker": {
                          "colorbar": {
                            "outlinewidth": 0,
                            "ticks": ""
                          }
                        },
                        "type": "scattermapbox"
                      }
                    ],
                    "scatterpolar": [
                      {
                        "marker": {
                          "colorbar": {
                            "outlinewidth": 0,
                            "ticks": ""
                          }
                        },
                        "type": "scatterpolar"
                      }
                    ],
                    "scatterpolargl": [
                      {
                        "marker": {
                          "colorbar": {
                            "outlinewidth": 0,
                            "ticks": ""
                          }
                        },
                        "type": "scatterpolargl"
                      }
                    ],
                    "scatterternary": [
                      {
                        "marker": {
                          "colorbar": {
                            "outlinewidth": 0,
                            "ticks": ""
                          }
                        },
                        "type": "scatterternary"
                      }
                    ],
                    "surface": [
                      {
                        "colorbar": {
                          "outlinewidth": 0,
                          "ticks": ""
                        },
                        "colorscale": [
                          [
                            0,
                            "#0d0887"
                          ],
                          [
                            0.1111111111111111,
                            "#46039f"
                          ],
                          [
                            0.2222222222222222,
                            "#7201a8"
                          ],
                          [
                            0.3333333333333333,
                            "#9c179e"
                          ],
                          [
                            0.4444444444444444,
                            "#bd3786"
                          ],
                          [
                            0.5555555555555556,
                            "#d8576b"
                          ],
                          [
                            0.6666666666666666,
                            "#ed7953"
                          ],
                          [
                            0.7777777777777778,
                            "#fb9f3a"
                          ],
                          [
                            0.8888888888888888,
                            "#fdca26"
                          ],
                          [
                            1,
                            "#f0f921"
                          ]
                        ],
                        "type": "surface"
                      }
                    ],
                    "table": [
                      {
                        "cells": {
                          "fill": {
                            "color": "#EBF0F8"
                          },
                          "line": {
                            "color": "white"
                          }
                        },
                        "header": {
                          "fill": {
                            "color": "#C8D4E3"
                          },
                          "line": {
                            "color": "white"
                          }
                        },
                        "type": "table"
                      }
                    ]
                  },
                  "layout": {
                    "annotationdefaults": {
                      "arrowcolor": "#2a3f5f",
                      "arrowhead": 0,
                      "arrowwidth": 1
                    },
                    "autotypenumbers": "strict",
                    "coloraxis": {
                      "colorbar": {
                        "outlinewidth": 0,
                        "ticks": ""
                      }
                    },
                    "colorscale": {
                      "diverging": [
                        [
                          0,
                          "#8e0152"
                        ],
                        [
                          0.1,
                          "#c51b7d"
                        ],
                        [
                          0.2,
                          "#de77ae"
                        ],
                        [
                          0.3,
                          "#f1b6da"
                        ],
                        [
                          0.4,
                          "#fde0ef"
                        ],
                        [
                          0.5,
                          "#f7f7f7"
                        ],
                        [
                          0.6,
                          "#e6f5d0"
                        ],
                        [
                          0.7,
                          "#b8e186"
                        ],
                        [
                          0.8,
                          "#7fbc41"
                        ],
                        [
                          0.9,
                          "#4d9221"
                        ],
                        [
                          1,
                          "#276419"
                        ]
                      ],
                      "sequential": [
                        [
                          0,
                          "#0d0887"
                        ],
                        [
                          0.1111111111111111,
                          "#46039f"
                        ],
                        [
                          0.2222222222222222,
                          "#7201a8"
                        ],
                        [
                          0.3333333333333333,
                          "#9c179e"
                        ],
                        [
                          0.4444444444444444,
                          "#bd3786"
                        ],
                        [
                          0.5555555555555556,
                          "#d8576b"
                        ],
                        [
                          0.6666666666666666,
                          "#ed7953"
                        ],
                        [
                          0.7777777777777778,
                          "#fb9f3a"
                        ],
                        [
                          0.8888888888888888,
                          "#fdca26"
                        ],
                        [
                          1,
                          "#f0f921"
                        ]
                      ],
                      "sequentialminus": [
                        [
                          0,
                          "#0d0887"
                        ],
                        [
                          0.1111111111111111,
                          "#46039f"
                        ],
                        [
                          0.2222222222222222,
                          "#7201a8"
                        ],
                        [
                          0.3333333333333333,
                          "#9c179e"
                        ],
                        [
                          0.4444444444444444,
                          "#bd3786"
                        ],
                        [
                          0.5555555555555556,
                          "#d8576b"
                        ],
                        [
                          0.6666666666666666,
                          "#ed7953"
                        ],
                        [
                          0.7777777777777778,
                          "#fb9f3a"
                        ],
                        [
                          0.8888888888888888,
                          "#fdca26"
                        ],
                        [
                          1,
                          "#f0f921"
                        ]
                      ]
                    },
                    "colorway": [
                      "#636efa",
                      "#EF553B",
                      "#00cc96",
                      "#ab63fa",
                      "#FFA15A",
                      "#19d3f3",
                      "#FF6692",
                      "#B6E880",
                      "#FF97FF",
                      "#FECB52"
                    ],
                    "font": {
                      "color": "#2a3f5f"
                    },
                    "geo": {
                      "bgcolor": "white",
                      "lakecolor": "white",
                      "landcolor": "white",
                      "showlakes": true,
                      "showland": true,
                      "subunitcolor": "#C8D4E3"
                    },
                    "hoverlabel": {
                      "align": "left"
                    },
                    "hovermode": "closest",
                    "mapbox": {
                      "style": "light"
                    },
                    "paper_bgcolor": "white",
                    "plot_bgcolor": "white",
                    "polar": {
                      "angularaxis": {
                        "gridcolor": "#EBF0F8",
                        "linecolor": "#EBF0F8",
                        "ticks": ""
                      },
                      "bgcolor": "white",
                      "radialaxis": {
                        "gridcolor": "#EBF0F8",
                        "linecolor": "#EBF0F8",
                        "ticks": ""
                      }
                    },
                    "scene": {
                      "xaxis": {
                        "backgroundcolor": "white",
                        "gridcolor": "#DFE8F3",
                        "gridwidth": 2,
                        "linecolor": "#EBF0F8",
                        "showbackground": true,
                        "ticks": "",
                        "zerolinecolor": "#EBF0F8"
                      },
                      "yaxis": {
                        "backgroundcolor": "white",
                        "gridcolor": "#DFE8F3",
                        "gridwidth": 2,
                        "linecolor": "#EBF0F8",
                        "showbackground": true,
                        "ticks": "",
                        "zerolinecolor": "#EBF0F8"
                      },
                      "zaxis": {
                        "backgroundcolor": "white",
                        "gridcolor": "#DFE8F3",
                        "gridwidth": 2,
                        "linecolor": "#EBF0F8",
                        "showbackground": true,
                        "ticks": "",
                        "zerolinecolor": "#EBF0F8"
                      }
                    },
                    "shapedefaults": {
                      "line": {
                        "color": "#2a3f5f"
                      }
                    },
                    "ternary": {
                      "aaxis": {
                        "gridcolor": "#DFE8F3",
                        "linecolor": "#A2B1C6",
                        "ticks": ""
                      },
                      "baxis": {
                        "gridcolor": "#DFE8F3",
                        "linecolor": "#A2B1C6",
                        "ticks": ""
                      },
                      "bgcolor": "white",
                      "caxis": {
                        "gridcolor": "#DFE8F3",
                        "linecolor": "#A2B1C6",
                        "ticks": ""
                      }
                    },
                    "title": {
                      "x": 0.05
                    },
                    "xaxis": {
                      "automargin": true,
                      "gridcolor": "#EBF0F8",
                      "linecolor": "#EBF0F8",
                      "ticks": "",
                      "title": {
                        "standoff": 15
                      },
                      "zerolinecolor": "#EBF0F8",
                      "zerolinewidth": 2
                    },
                    "yaxis": {
                      "automargin": true,
                      "gridcolor": "#EBF0F8",
                      "linecolor": "#EBF0F8",
                      "ticks": "",
                      "title": {
                        "standoff": 15
                      },
                      "zerolinecolor": "#EBF0F8",
                      "zerolinewidth": 2
                    }
                  }
                },
                "updatemenus": [
                  {
                    "buttons": [
                      {
                        "args": [
                          {
                            "visible": [
                              true,
                              true
                            ]
                          },
                          {
                            "title": "All Regions"
                          }
                        ],
                        "label": "All",
                        "method": "update"
                      },
                      {
                        "args": [
                          {
                            "visible": [
                              true,
                              false
                            ]
                          },
                          {
                            "title": "UK Winners"
                          }
                        ],
                        "label": "UK Only",
                        "method": "update"
                      },
                      {
                        "args": [
                          {
                            "visible": [
                              false,
                              true
                            ]
                          },
                          {
                            "title": "International Winners"
                          }
                        ],
                        "label": "International Only",
                        "method": "update"
                      }
                    ],
                    "direction": "down"
                  }
                ],
                "xaxis": {
                  "anchor": "y",
                  "domain": [
                    0,
                    1
                  ],
                  "title": {
                    "text": "Season"
                  }
                },
                "yaxis": {
                  "anchor": "x",
                  "domain": [
                    0,
                    1
                  ],
                  "title": {
                    "text": "Final Wins"
                  }
                }
              }
            }
          },
          "metadata": {},
          "output_type": "display_data"
        }
      ],
      "source": [
        "fig = px.bar(final_wins_by_season, x='season', y='final_wins', color='winner_region', barmode='stack', title=\"Final Winners by Season (UK vs International)\")\n",
        "\n",
        "fig.update_layout(\n",
        "    xaxis_title='Season',\n",
        "    yaxis_title='Final Wins',\n",
        "    legend_title='Winner Region',\n",
        "    template='plotly_white',\n",
        "    updatemenus=[\n",
        "        dict(\n",
        "            buttons=list([\n",
        "                dict(label=\"All\",\n",
        "                     method=\"update\",\n",
        "                     args=[{\"visible\": [True, True]}, {\"title\": \"All Regions\"}]),\n",
        "                dict(label=\"UK Only\",\n",
        "                     method=\"update\",\n",
        "                     args=[{\"visible\": [True, False]}, {\"title\": \"UK Winners\"}]),\n",
        "                dict(label=\"International Only\",\n",
        "                     method=\"update\",\n",
        "                     args=[{\"visible\": [False, True]}, {\"title\": \"International Winners\"}]),\n",
        "            ]),\n",
        "            direction=\"down\"\n",
        "        )\n",
        "    ]\n",
        ")\n",
        "\n",
        "fig.show()"
      ]
    },
    {
      "cell_type": "markdown",
      "metadata": {},
      "source": [
        "---"
      ]
    },
    {
      "cell_type": "markdown",
      "metadata": {},
      "source": [
        "---"
      ]
    },
    {
      "cell_type": "markdown",
      "metadata": {},
      "source": [
        "NOTE"
      ]
    },
    {
      "cell_type": "markdown",
      "metadata": {},
      "source": [
        "* You may add as many sections as you want, as long as it supports your project workflow.\n",
        "* All notebook's cells should be run top-down (you can't create a dynamic wherein a given point you need to go back to a previous cell to execute some task, like go back to a previous cell and refresh a variable content)"
      ]
    },
    {
      "cell_type": "markdown",
      "metadata": {},
      "source": [
        "---"
      ]
    },
    {
      "cell_type": "markdown",
      "metadata": {
        "id": "ltNetd085qHf"
      },
      "source": [
        "# Push files to Repo"
      ]
    },
    {
      "cell_type": "markdown",
      "metadata": {},
      "source": [
        "* In cases where you don't need to push files to Repo, you may replace this section with \"Conclusions and Next Steps\" and state your conclusions and next steps."
      ]
    },
    {
      "cell_type": "code",
      "execution_count": 17,
      "metadata": {
        "id": "aKlnIozA4eQO",
        "outputId": "fd09bc1f-adb1-4511-f6ce-492a6af570c0"
      },
      "outputs": [
        {
          "ename": "IndentationError",
          "evalue": "expected an indented block after 'try' statement on line 2 (553063055.py, line 5)",
          "output_type": "error",
          "traceback": [
            "  \u001b[36mCell\u001b[39m\u001b[36m \u001b[39m\u001b[32mIn[17]\u001b[39m\u001b[32m, line 5\u001b[39m\n\u001b[31m    \u001b[39m\u001b[31mexcept Exception as e:\u001b[39m\n    ^\n\u001b[31mIndentationError\u001b[39m\u001b[31m:\u001b[39m expected an indented block after 'try' statement on line 2\n"
          ]
        }
      ],
      "source": [
        "import os\n",
        "try:\n",
        "  # create your folder here\n",
        "  # os.makedirs(name='')\n",
        "except Exception as e:\n",
        "  print(e)\n"
      ]
    }
  ],
  "metadata": {
    "accelerator": "GPU",
    "colab": {
      "name": "Data Practitioner Jupyter Notebook.ipynb",
      "provenance": [],
      "toc_visible": true
    },
    "kernelspec": {
      "display_name": ".venv",
      "language": "python",
      "name": "python3"
    },
    "language_info": {
      "codemirror_mode": {
        "name": "ipython",
        "version": 3
      },
      "file_extension": ".py",
      "mimetype": "text/x-python",
      "name": "python",
      "nbconvert_exporter": "python",
      "pygments_lexer": "ipython3",
      "version": "3.12.2"
    },
    "orig_nbformat": 2
  },
  "nbformat": 4,
  "nbformat_minor": 2
}
